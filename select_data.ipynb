{
  "nbformat": 4,
  "nbformat_minor": 0,
  "metadata": {
    "colab": {
      "name": "select_data.ipynb",
      "provenance": [],
      "mount_file_id": "1r0KdM7N_JFnMu4xnxJq5E4D9swCfzghj",
      "authorship_tag": "ABX9TyPL3LrP0705C7qe833VbcCK",
      "include_colab_link": true
    },
    "kernelspec": {
      "name": "python3",
      "display_name": "Python 3"
    }
  },
  "cells": [
    {
      "cell_type": "markdown",
      "metadata": {
        "id": "view-in-github",
        "colab_type": "text"
      },
      "source": [
        "<a href=\"https://colab.research.google.com/github/mzignis/advance_house_pricing/blob/master/select_data.ipynb\" target=\"_parent\"><img src=\"https://colab.research.google.com/assets/colab-badge.svg\" alt=\"Open In Colab\"/></a>"
      ]
    },
    {
      "cell_type": "code",
      "metadata": {
        "id": "YJ97gVegZZxS",
        "colab_type": "code",
        "colab": {
          "base_uri": "https://localhost:8080/",
          "height": 34
        },
        "outputId": "4e18b31b-985a-4438-ff24-dcac9e74e376"
      },
      "source": [
        "HOME = '/content/drive/My Drive/ml_competition/advance_house_pricing'\n",
        "%cd $HOME"
      ],
      "execution_count": null,
      "outputs": [
        {
          "output_type": "stream",
          "text": [
            "/content/drive/My Drive/ml_competition/advance_house_pricing\n"
          ],
          "name": "stdout"
        }
      ]
    },
    {
      "cell_type": "code",
      "metadata": {
        "id": "TevT-jjPZg0U",
        "colab_type": "code",
        "colab": {}
      },
      "source": [
        "import os\n",
        "\n",
        "import pandas as pd\n",
        "import numpy as np\n",
        "import matplotlib.pyplot as plt\n",
        "import seaborn as sns\n",
        "\n",
        "from sklearn.preprocessing import power_transform\n",
        "\n",
        "sns.set()"
      ],
      "execution_count": null,
      "outputs": []
    },
    {
      "cell_type": "code",
      "metadata": {
        "id": "7Ik_Yk_4Zn5b",
        "colab_type": "code",
        "colab": {
          "base_uri": "https://localhost:8080/",
          "height": 34
        },
        "outputId": "e0dc3b81-accd-44bd-e21b-54fcfd9bae2f"
      },
      "source": [
        "data_dir = os.path.join(HOME, 'data')\n",
        "preprocessed_data_dir = os.path.join(data_dir, 'preprocessed')\n",
        "os.listdir(preprocessed_data_dir)"
      ],
      "execution_count": null,
      "outputs": [
        {
          "output_type": "execute_result",
          "data": {
            "text/plain": [
              "['targets.csv', 'train.csv', 'test.csv']"
            ]
          },
          "metadata": {
            "tags": []
          },
          "execution_count": 44
        }
      ]
    },
    {
      "cell_type": "code",
      "metadata": {
        "id": "J1CDYAFrZqVr",
        "colab_type": "code",
        "colab": {}
      },
      "source": [
        "train_data = pd.read_csv(os.path.join(preprocessed_data_dir, 'train.csv'), index_col=0)\n",
        "targets_data = pd.read_csv(os.path.join(preprocessed_data_dir, 'targets.csv'),  index_col=0)"
      ],
      "execution_count": null,
      "outputs": []
    },
    {
      "cell_type": "markdown",
      "metadata": {
        "id": "c8ksrYBkgaGR",
        "colab_type": "text"
      },
      "source": [
        "## Outliers"
      ]
    },
    {
      "cell_type": "code",
      "metadata": {
        "id": "z78s7fosaLOP",
        "colab_type": "code",
        "colab": {
          "base_uri": "https://localhost:8080/",
          "height": 318
        },
        "outputId": "be176b50-8fc1-4711-e944-c45994381b67"
      },
      "source": [
        "targets_data.hist(bins=100)"
      ],
      "execution_count": null,
      "outputs": [
        {
          "output_type": "execute_result",
          "data": {
            "text/plain": [
              "array([[<matplotlib.axes._subplots.AxesSubplot object at 0x7f74120bda90>]],\n",
              "      dtype=object)"
            ]
          },
          "metadata": {
            "tags": []
          },
          "execution_count": 46
        },
        {
          "output_type": "display_data",
          "data": {
            "image/png": "[encoded data removed]",
            "text/plain": [
              "<Figure size 432x288 with 1 Axes>"
            ]
          },
          "metadata": {
            "tags": []
          }
        }
      ]
    },
    {
      "cell_type": "markdown",
      "metadata": {
        "id": "9kSCI4ofgQt9",
        "colab_type": "text"
      },
      "source": [
        "### Standard Deviation Method"
      ]
    },
    {
      "cell_type": "code",
      "metadata": {
        "id": "12NeyI3naS5V",
        "colab_type": "code",
        "colab": {
          "base_uri": "https://localhost:8080/",
          "height": 339
        },
        "outputId": "65ce5682-66dd-41ac-ec70-17190551248e"
      },
      "source": [
        "targets_data['SalePriceProcessed'] = power_transform(targets_data['SalePrice'].values.reshape(-1, 1))\n",
        "targets_data['SalePriceProcessed'].hist(bins=100)"
      ],
      "execution_count": null,
      "outputs": [
        {
          "output_type": "stream",
          "text": [
            "/usr/local/lib/python3.6/dist-packages/sklearn/preprocessing/_data.py:3128: FutureWarning: The default value of 'method' will change from 'box-cox' to 'yeo-johnson' in version 0.23. Set the 'method' argument explicitly to silence this warning in the meantime.\n",
            "  FutureWarning)\n"
          ],
          "name": "stderr"
        },
        {
          "output_type": "execute_result",
          "data": {
            "text/plain": [
              "<matplotlib.axes._subplots.AxesSubplot at 0x7f74108cb940>"
            ]
          },
          "metadata": {
            "tags": []
          },
          "execution_count": 68
        },
        {
          "output_type": "display_data",
          "data": {
            "image/png": "[encoded data removed]",
            "text/plain": [
              "<Figure size 432x288 with 1 Axes>"
            ]
          },
          "metadata": {
            "tags": []
          }
        }
      ]
    },
    {
      "cell_type": "code",
      "metadata": {
        "id": "JmZgJqqcc1ZB",
        "colab_type": "code",
        "colab": {
          "base_uri": "https://localhost:8080/",
          "height": 34
        },
        "outputId": "fc0ed777-a2cf-4fcb-d146-d7add9a102a5"
      },
      "source": [
        "targets_data['SalePriceProcessed'].mean(), targets_data['SalePriceProcessed'].std() "
      ],
      "execution_count": null,
      "outputs": [
        {
          "output_type": "execute_result",
          "data": {
            "text/plain": [
              "(1.5923335709349847e-15, 1.0003426417780856)"
            ]
          },
          "metadata": {
            "tags": []
          },
          "execution_count": 69
        }
      ]
    },
    {
      "cell_type": "code",
      "metadata": {
        "id": "Sw9Yb6pRdT1A",
        "colab_type": "code",
        "colab": {}
      },
      "source": [
        "mean = targets_data['SalePriceProcessed'].mean()\n",
        "std = targets_data['SalePriceProcessed'].std()\n",
        "cut_off = 3 * std"
      ],
      "execution_count": null,
      "outputs": []
    },
    {
      "cell_type": "code",
      "metadata": {
        "id": "3ZBjK0Wsd__t",
        "colab_type": "code",
        "colab": {
          "base_uri": "https://localhost:8080/",
          "height": 34
        },
        "outputId": "73b2e2b9-80e1-41b3-e55f-bd595abd40d9"
      },
      "source": [
        "print(targets_data.shape)"
      ],
      "execution_count": null,
      "outputs": [
        {
          "output_type": "stream",
          "text": [
            "(1460, 2)\n"
          ],
          "name": "stdout"
        }
      ]
    },
    {
      "cell_type": "code",
      "metadata": {
        "id": "OQfhxunqeC6y",
        "colab_type": "code",
        "colab": {
          "base_uri": "https://localhost:8080/",
          "height": 34
        },
        "outputId": "3005d0ec-d13c-4deb-d478-db2bb0cdab4d"
      },
      "source": [
        "query = f'{mean - cut_off} > SalePriceProcessed or SalePriceProcessed > {mean + cut_off}'\n",
        "std_outliers = targets_data.query(query, engine='python').index\n",
        "std_outliers"
      ],
      "execution_count": null,
      "outputs": [
        {
          "output_type": "execute_result",
          "data": {
            "text/plain": [
              "Int64Index([30, 495, 533, 691, 710, 803, 898, 916, 968, 1169, 1182, 1337], dtype='int64')"
            ]
          },
          "metadata": {
            "tags": []
          },
          "execution_count": 74
        }
      ]
    },
    {
      "cell_type": "markdown",
      "metadata": {
        "id": "Uz09u6i2gtz0",
        "colab_type": "text"
      },
      "source": [
        "### Interquartile Range Method"
      ]
    },
    {
      "cell_type": "code",
      "metadata": {
        "id": "CUQLiSk5ekLh",
        "colab_type": "code",
        "colab": {
          "base_uri": "https://localhost:8080/",
          "height": 34
        },
        "outputId": "755b0c0a-56c5-4289-9933-febeabf87028"
      },
      "source": [
        "q25 = targets_data['SalePrice'].quantile(0.25)\n",
        "q75 = targets_data['SalePrice'].quantile(0.75)\n",
        "q25, q75"
      ],
      "execution_count": null,
      "outputs": [
        {
          "output_type": "execute_result",
          "data": {
            "text/plain": [
              "(129975.0, 214000.0)"
            ]
          },
          "metadata": {
            "tags": []
          },
          "execution_count": 75
        }
      ]
    },
    {
      "cell_type": "code",
      "metadata": {
        "id": "45L4S9v3hpkf",
        "colab_type": "code",
        "colab": {
          "base_uri": "https://localhost:8080/",
          "height": 34
        },
        "outputId": "f07b5756-b008-474d-bd83-e5467a917491"
      },
      "source": [
        "iq = q75 - q25\n",
        "cut_off = 1.5 * iq\n",
        "cut_off"
      ],
      "execution_count": null,
      "outputs": [
        {
          "output_type": "execute_result",
          "data": {
            "text/plain": [
              "126037.5"
            ]
          },
          "metadata": {
            "tags": []
          },
          "execution_count": 76
        }
      ]
    },
    {
      "cell_type": "code",
      "metadata": {
        "id": "EwBFdrbvhx34",
        "colab_type": "code",
        "colab": {
          "base_uri": "https://localhost:8080/",
          "height": 136
        },
        "outputId": "f7d2ebaa-9628-4341-a3ed-637168988ee6"
      },
      "source": [
        "query = f'{q25 - cut_off} > SalePrice or SalePrice > {q75 + cut_off}'\n",
        "iq_outliers = targets_data.query(query, engine='python').index\n",
        "iq_outliers"
      ],
      "execution_count": null,
      "outputs": [
        {
          "output_type": "execute_result",
          "data": {
            "text/plain": [
              "Int64Index([  11,   53,   58,  112,  151,  161,  178,  185,  224,  231,  278,\n",
              "             309,  313,  320,  321,  336,  349,  378,  389,  440,  473,  477,\n",
              "             481,  496,  515,  527,  585,  591,  608,  642,  644,  654,  661,\n",
              "             664,  678,  688,  691,  702,  718,  769,  774,  798,  803,  825,\n",
              "             877,  898,  987,  990, 1046, 1142, 1169, 1181, 1182, 1228, 1243,\n",
              "            1267, 1268, 1353, 1373, 1388, 1437],\n",
              "           dtype='int64')"
            ]
          },
          "metadata": {
            "tags": []
          },
          "execution_count": 80
        }
      ]
    },
    {
      "cell_type": "markdown",
      "metadata": {
        "id": "M93XaTSIk7_v",
        "colab_type": "text"
      },
      "source": [
        "### Sum up outliers"
      ]
    },
    {
      "cell_type": "code",
      "metadata": {
        "id": "5pwx6vbclAjj",
        "colab_type": "code",
        "colab": {
          "base_uri": "https://localhost:8080/",
          "height": 34
        },
        "outputId": "2083aab7-8726-4eee-df41-bf155b45467b"
      },
      "source": [
        "outliers = std_outliers.tolist() + iq_outliers.tolist()\n",
        "outliers = set(outliers)\n",
        "len(outliers)"
      ],
      "execution_count": null,
      "outputs": [
        {
          "output_type": "execute_result",
          "data": {
            "text/plain": [
              "68"
            ]
          },
          "metadata": {
            "tags": []
          },
          "execution_count": 83
        }
      ]
    },
    {
      "cell_type": "code",
      "metadata": {
        "id": "NvNZdUbclEZT",
        "colab_type": "code",
        "colab": {}
      },
      "source": [
        "targets_data = targets_data.drop(outliers)\n",
        "train_data = train_data.drop(outliers)"
      ],
      "execution_count": null,
      "outputs": []
    },
    {
      "cell_type": "code",
      "metadata": {
        "id": "d_XK04I2lxxa",
        "colab_type": "code",
        "colab": {}
      },
      "source": [
        "targets_data['SalePrice'].to_csv(os.path.join(preprocessed_data_dir, 'targets.csv'))\n",
        "train_data.to_csv(os.path.join(preprocessed_data_dir, 'train.csv'))"
      ],
      "execution_count": null,
      "outputs": []
    },
    {
      "cell_type": "code",
      "metadata": {
        "id": "IiGVRDeOmBvy",
        "colab_type": "code",
        "colab": {}
      },
      "source": [
        ""
      ],
      "execution_count": null,
      "outputs": []
    }
  ]
}