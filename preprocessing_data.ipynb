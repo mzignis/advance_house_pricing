{
  "nbformat": 4,
  "nbformat_minor": 0,
  "metadata": {
    "colab": {
      "name": "preprocessing_data.ipynb",
      "provenance": [],
      "mount_file_id": "1fCFMOgNTFQzWokpKYSElzn-GpX7pJf0y",
      "authorship_tag": "ABX9TyNfV278Lhma/xAfFBrDW7gT",
      "include_colab_link": true
    },
    "kernelspec": {
      "name": "python3",
      "display_name": "Python 3"
    }
  },
  "cells": [
    {
      "cell_type": "markdown",
      "metadata": {
        "id": "view-in-github",
        "colab_type": "text"
      },
      "source": [
        "<a href=\"https://colab.research.google.com/github/mzignis/advance_house_pricing/blob/master/preprocessing_data.ipynb\" target=\"_parent\"><img src=\"https://colab.research.google.com/assets/colab-badge.svg\" alt=\"Open In Colab\"/></a>"
      ]
    },
    {
      "cell_type": "code",
      "metadata": {
        "id": "ihATNEia21fS",
        "colab_type": "code",
        "colab": {
          "base_uri": "https://localhost:8080/",
          "height": 34
        },
        "outputId": "2e537ece-43a0-42c5-ec74-f2d0daae1a37"
      },
      "source": [
        "HOME = '/content/drive/My Drive/ml_competition/advance_house_pricing'\n",
        "%cd $HOME"
      ],
      "execution_count": 1,
      "outputs": [
        {
          "output_type": "stream",
          "text": [
            "/content/drive/My Drive/ml_competition/advance_house_pricing\n"
          ],
          "name": "stdout"
        }
      ]
    },
    {
      "cell_type": "code",
      "metadata": {
        "id": "U5McwL_73Z8K",
        "colab_type": "code",
        "colab": {
          "base_uri": "https://localhost:8080/",
          "height": 71
        },
        "outputId": "a0a6051e-4694-40ef-bd36-2eb6dfa036c7"
      },
      "source": [
        "import os\n",
        "\n",
        "import matplotlib.pyplot as plt\n",
        "import numpy as np\n",
        "import pandas as pd\n",
        "import seaborn as sns\n",
        "\n",
        "sns.set()"
      ],
      "execution_count": 2,
      "outputs": [
        {
          "output_type": "stream",
          "text": [
            "/usr/local/lib/python3.6/dist-packages/statsmodels/tools/_testing.py:19: FutureWarning: pandas.util.testing is deprecated. Use the functions in the public API at pandas.testing instead.\n",
            "  import pandas.util.testing as tm\n"
          ],
          "name": "stderr"
        }
      ]
    },
    {
      "cell_type": "markdown",
      "metadata": {
        "id": "v3nWYy6c301v",
        "colab_type": "text"
      },
      "source": [
        "## Getting data"
      ]
    },
    {
      "cell_type": "code",
      "metadata": {
        "id": "BmfTs9rH3gmX",
        "colab_type": "code",
        "colab": {
          "base_uri": "https://localhost:8080/",
          "height": 119
        },
        "outputId": "6a22b576-75bb-472a-96d1-e45284dad188"
      },
      "source": [
        "DATA_DIR = os.path.join(HOME, 'data')\n",
        "os.listdir(DATA_DIR)"
      ],
      "execution_count": 3,
      "outputs": [
        {
          "output_type": "execute_result",
          "data": {
            "text/plain": [
              "['test.csv',\n",
              " 'sample_submission.csv',\n",
              " 'data_description.txt',\n",
              " 'train.csv',\n",
              " 'preprocessed',\n",
              " 'results']"
            ]
          },
          "metadata": {
            "tags": []
          },
          "execution_count": 3
        }
      ]
    },
    {
      "cell_type": "code",
      "metadata": {
        "id": "3ZDi_4y03qRY",
        "colab_type": "code",
        "colab": {}
      },
      "source": [
        "train_data = pd.read_csv(os.path.join(DATA_DIR, 'train.csv'), index_col=0)\n",
        "test_data = pd.read_csv(os.path.join(DATA_DIR, 'test.csv'), index_col=0)"
      ],
      "execution_count": 4,
      "outputs": []
    },
    {
      "cell_type": "code",
      "metadata": {
        "id": "9GMJdohz35aP",
        "colab_type": "code",
        "colab": {
          "base_uri": "https://localhost:8080/",
          "height": 34
        },
        "outputId": "af9f193e-5046-46a8-d6ef-27c32d3e1d2b"
      },
      "source": [
        "train_data.shape"
      ],
      "execution_count": 5,
      "outputs": [
        {
          "output_type": "execute_result",
          "data": {
            "text/plain": [
              "(1460, 80)"
            ]
          },
          "metadata": {
            "tags": []
          },
          "execution_count": 5
        }
      ]
    },
    {
      "cell_type": "code",
      "metadata": {
        "id": "QYIyjBdE37UH",
        "colab_type": "code",
        "colab": {
          "base_uri": "https://localhost:8080/",
          "height": 34
        },
        "outputId": "c5f0dd48-756f-4886-f335-b788b358bde5"
      },
      "source": [
        "test_data.shape"
      ],
      "execution_count": 6,
      "outputs": [
        {
          "output_type": "execute_result",
          "data": {
            "text/plain": [
              "(1459, 79)"
            ]
          },
          "metadata": {
            "tags": []
          },
          "execution_count": 6
        }
      ]
    },
    {
      "cell_type": "markdown",
      "metadata": {
        "id": "Ht6IhJ_y4dee",
        "colab_type": "text"
      },
      "source": [
        "## Exploring data"
      ]
    },
    {
      "cell_type": "code",
      "metadata": {
        "id": "m9OgWrFw38aW",
        "colab_type": "code",
        "colab": {
          "base_uri": "https://localhost:8080/",
          "height": 255
        },
        "outputId": "1bd5733d-9c99-4a3b-bebd-949ce1b1b58b"
      },
      "source": [
        "train_data.head()"
      ],
      "execution_count": 7,
      "outputs": [
        {
          "output_type": "execute_result",
          "data": {
            "text/html": [
              "<div>\n",
              "<style scoped>\n",
              "    .dataframe tbody tr th:only-of-type {\n",
              "        vertical-align: middle;\n",
              "    }\n",
              "\n",
              "    .dataframe tbody tr th {\n",
              "        vertical-align: top;\n",
              "    }\n",
              "\n",
              "    .dataframe thead th {\n",
              "        text-align: right;\n",
              "    }\n",
              "</style>\n",
              "<table border=\"1\" class=\"dataframe\">\n",
              "  <thead>\n",
              "    <tr style=\"text-align: right;\">\n",
              "      <th></th>\n",
              "      <th>MSSubClass</th>\n",
              "      <th>MSZoning</th>\n",
              "      <th>LotFrontage</th>\n",
              "      <th>LotArea</th>\n",
              "      <th>Street</th>\n",
              "      <th>Alley</th>\n",
              "      <th>LotShape</th>\n",
              "      <th>LandContour</th>\n",
              "      <th>Utilities</th>\n",
              "      <th>LotConfig</th>\n",
              "      <th>LandSlope</th>\n",
              "      <th>Neighborhood</th>\n",
              "      <th>Condition1</th>\n",
              "      <th>Condition2</th>\n",
              "      <th>BldgType</th>\n",
              "      <th>HouseStyle</th>\n",
              "      <th>OverallQual</th>\n",
              "      <th>OverallCond</th>\n",
              "      <th>YearBuilt</th>\n",
              "      <th>YearRemodAdd</th>\n",
              "      <th>RoofStyle</th>\n",
              "      <th>RoofMatl</th>\n",
              "      <th>Exterior1st</th>\n",
              "      <th>Exterior2nd</th>\n",
              "      <th>MasVnrType</th>\n",
              "      <th>MasVnrArea</th>\n",
              "      <th>ExterQual</th>\n",
              "      <th>ExterCond</th>\n",
              "      <th>Foundation</th>\n",
              "      <th>BsmtQual</th>\n",
              "      <th>BsmtCond</th>\n",
              "      <th>BsmtExposure</th>\n",
              "      <th>BsmtFinType1</th>\n",
              "      <th>BsmtFinSF1</th>\n",
              "      <th>BsmtFinType2</th>\n",
              "      <th>BsmtFinSF2</th>\n",
              "      <th>BsmtUnfSF</th>\n",
              "      <th>TotalBsmtSF</th>\n",
              "      <th>Heating</th>\n",
              "      <th>HeatingQC</th>\n",
              "      <th>CentralAir</th>\n",
              "      <th>Electrical</th>\n",
              "      <th>1stFlrSF</th>\n",
              "      <th>2ndFlrSF</th>\n",
              "      <th>LowQualFinSF</th>\n",
              "      <th>GrLivArea</th>\n",
              "      <th>BsmtFullBath</th>\n",
              "      <th>BsmtHalfBath</th>\n",
              "      <th>FullBath</th>\n",
              "      <th>HalfBath</th>\n",
              "      <th>BedroomAbvGr</th>\n",
              "      <th>KitchenAbvGr</th>\n",
              "      <th>KitchenQual</th>\n",
              "      <th>TotRmsAbvGrd</th>\n",
              "      <th>Functional</th>\n",
              "      <th>Fireplaces</th>\n",
              "      <th>FireplaceQu</th>\n",
              "      <th>GarageType</th>\n",
              "      <th>GarageYrBlt</th>\n",
              "      <th>GarageFinish</th>\n",
              "      <th>GarageCars</th>\n",
              "      <th>GarageArea</th>\n",
              "      <th>GarageQual</th>\n",
              "      <th>GarageCond</th>\n",
              "      <th>PavedDrive</th>\n",
              "      <th>WoodDeckSF</th>\n",
              "      <th>OpenPorchSF</th>\n",
              "      <th>EnclosedPorch</th>\n",
              "      <th>3SsnPorch</th>\n",
              "      <th>ScreenPorch</th>\n",
              "      <th>PoolArea</th>\n",
              "      <th>PoolQC</th>\n",
              "      <th>Fence</th>\n",
              "      <th>MiscFeature</th>\n",
              "      <th>MiscVal</th>\n",
              "      <th>MoSold</th>\n",
              "      <th>YrSold</th>\n",
              "      <th>SaleType</th>\n",
              "      <th>SaleCondition</th>\n",
              "      <th>SalePrice</th>\n",
              "    </tr>\n",
              "    <tr>\n",
              "      <th>Id</th>\n",
              "      <th></th>\n",
              "      <th></th>\n",
              "      <th></th>\n",
              "      <th></th>\n",
              "      <th></th>\n",
              "      <th></th>\n",
              "      <th></th>\n",
              "      <th></th>\n",
              "      <th></th>\n",
              "      <th></th>\n",
              "      <th></th>\n",
              "      <th></th>\n",
              "      <th></th>\n",
              "      <th></th>\n",
              "      <th></th>\n",
              "      <th></th>\n",
              "      <th></th>\n",
              "      <th></th>\n",
              "      <th></th>\n",
              "      <th></th>\n",
              "      <th></th>\n",
              "      <th></th>\n",
              "      <th></th>\n",
              "      <th></th>\n",
              "      <th></th>\n",
              "      <th></th>\n",
              "      <th></th>\n",
              "      <th></th>\n",
              "      <th></th>\n",
              "      <th></th>\n",
              "      <th></th>\n",
              "      <th></th>\n",
              "      <th></th>\n",
              "      <th></th>\n",
              "      <th></th>\n",
              "      <th></th>\n",
              "      <th></th>\n",
              "      <th></th>\n",
              "      <th></th>\n",
              "      <th></th>\n",
              "      <th></th>\n",
              "      <th></th>\n",
              "      <th></th>\n",
              "      <th></th>\n",
              "      <th></th>\n",
              "      <th></th>\n",
              "      <th></th>\n",
              "      <th></th>\n",
              "      <th></th>\n",
              "      <th></th>\n",
              "      <th></th>\n",
              "      <th></th>\n",
              "      <th></th>\n",
              "      <th></th>\n",
              "      <th></th>\n",
              "      <th></th>\n",
              "      <th></th>\n",
              "      <th></th>\n",
              "      <th></th>\n",
              "      <th></th>\n",
              "      <th></th>\n",
              "      <th></th>\n",
              "      <th></th>\n",
              "      <th></th>\n",
              "      <th></th>\n",
              "      <th></th>\n",
              "      <th></th>\n",
              "      <th></th>\n",
              "      <th></th>\n",
              "      <th></th>\n",
              "      <th></th>\n",
              "      <th></th>\n",
              "      <th></th>\n",
              "      <th></th>\n",
              "      <th></th>\n",
              "      <th></th>\n",
              "      <th></th>\n",
              "      <th></th>\n",
              "      <th></th>\n",
              "      <th></th>\n",
              "    </tr>\n",
              "  </thead>\n",
              "  <tbody>\n",
              "    <tr>\n",
              "      <th>1</th>\n",
              "      <td>60</td>\n",
              "      <td>RL</td>\n",
              "      <td>65.0</td>\n",
              "      <td>8450</td>\n",
              "      <td>Pave</td>\n",
              "      <td>NaN</td>\n",
              "      <td>Reg</td>\n",
              "      <td>Lvl</td>\n",
              "      <td>AllPub</td>\n",
              "      <td>Inside</td>\n",
              "      <td>Gtl</td>\n",
              "      <td>CollgCr</td>\n",
              "      <td>Norm</td>\n",
              "      <td>Norm</td>\n",
              "      <td>1Fam</td>\n",
              "      <td>2Story</td>\n",
              "      <td>7</td>\n",
              "      <td>5</td>\n",
              "      <td>2003</td>\n",
              "      <td>2003</td>\n",
              "      <td>Gable</td>\n",
              "      <td>CompShg</td>\n",
              "      <td>VinylSd</td>\n",
              "      <td>VinylSd</td>\n",
              "      <td>BrkFace</td>\n",
              "      <td>196.0</td>\n",
              "      <td>Gd</td>\n",
              "      <td>TA</td>\n",
              "      <td>PConc</td>\n",
              "      <td>Gd</td>\n",
              "      <td>TA</td>\n",
              "      <td>No</td>\n",
              "      <td>GLQ</td>\n",
              "      <td>706</td>\n",
              "      <td>Unf</td>\n",
              "      <td>0</td>\n",
              "      <td>150</td>\n",
              "      <td>856</td>\n",
              "      <td>GasA</td>\n",
              "      <td>Ex</td>\n",
              "      <td>Y</td>\n",
              "      <td>SBrkr</td>\n",
              "      <td>856</td>\n",
              "      <td>854</td>\n",
              "      <td>0</td>\n",
              "      <td>1710</td>\n",
              "      <td>1</td>\n",
              "      <td>0</td>\n",
              "      <td>2</td>\n",
              "      <td>1</td>\n",
              "      <td>3</td>\n",
              "      <td>1</td>\n",
              "      <td>Gd</td>\n",
              "      <td>8</td>\n",
              "      <td>Typ</td>\n",
              "      <td>0</td>\n",
              "      <td>NaN</td>\n",
              "      <td>Attchd</td>\n",
              "      <td>2003.0</td>\n",
              "      <td>RFn</td>\n",
              "      <td>2</td>\n",
              "      <td>548</td>\n",
              "      <td>TA</td>\n",
              "      <td>TA</td>\n",
              "      <td>Y</td>\n",
              "      <td>0</td>\n",
              "      <td>61</td>\n",
              "      <td>0</td>\n",
              "      <td>0</td>\n",
              "      <td>0</td>\n",
              "      <td>0</td>\n",
              "      <td>NaN</td>\n",
              "      <td>NaN</td>\n",
              "      <td>NaN</td>\n",
              "      <td>0</td>\n",
              "      <td>2</td>\n",
              "      <td>2008</td>\n",
              "      <td>WD</td>\n",
              "      <td>Normal</td>\n",
              "      <td>208500</td>\n",
              "    </tr>\n",
              "    <tr>\n",
              "      <th>2</th>\n",
              "      <td>20</td>\n",
              "      <td>RL</td>\n",
              "      <td>80.0</td>\n",
              "      <td>9600</td>\n",
              "      <td>Pave</td>\n",
              "      <td>NaN</td>\n",
              "      <td>Reg</td>\n",
              "      <td>Lvl</td>\n",
              "      <td>AllPub</td>\n",
              "      <td>FR2</td>\n",
              "      <td>Gtl</td>\n",
              "      <td>Veenker</td>\n",
              "      <td>Feedr</td>\n",
              "      <td>Norm</td>\n",
              "      <td>1Fam</td>\n",
              "      <td>1Story</td>\n",
              "      <td>6</td>\n",
              "      <td>8</td>\n",
              "      <td>1976</td>\n",
              "      <td>1976</td>\n",
              "      <td>Gable</td>\n",
              "      <td>CompShg</td>\n",
              "      <td>MetalSd</td>\n",
              "      <td>MetalSd</td>\n",
              "      <td>None</td>\n",
              "      <td>0.0</td>\n",
              "      <td>TA</td>\n",
              "      <td>TA</td>\n",
              "      <td>CBlock</td>\n",
              "      <td>Gd</td>\n",
              "      <td>TA</td>\n",
              "      <td>Gd</td>\n",
              "      <td>ALQ</td>\n",
              "      <td>978</td>\n",
              "      <td>Unf</td>\n",
              "      <td>0</td>\n",
              "      <td>284</td>\n",
              "      <td>1262</td>\n",
              "      <td>GasA</td>\n",
              "      <td>Ex</td>\n",
              "      <td>Y</td>\n",
              "      <td>SBrkr</td>\n",
              "      <td>1262</td>\n",
              "      <td>0</td>\n",
              "      <td>0</td>\n",
              "      <td>1262</td>\n",
              "      <td>0</td>\n",
              "      <td>1</td>\n",
              "      <td>2</td>\n",
              "      <td>0</td>\n",
              "      <td>3</td>\n",
              "      <td>1</td>\n",
              "      <td>TA</td>\n",
              "      <td>6</td>\n",
              "      <td>Typ</td>\n",
              "      <td>1</td>\n",
              "      <td>TA</td>\n",
              "      <td>Attchd</td>\n",
              "      <td>1976.0</td>\n",
              "      <td>RFn</td>\n",
              "      <td>2</td>\n",
              "      <td>460</td>\n",
              "      <td>TA</td>\n",
              "      <td>TA</td>\n",
              "      <td>Y</td>\n",
              "      <td>298</td>\n",
              "      <td>0</td>\n",
              "      <td>0</td>\n",
              "      <td>0</td>\n",
              "      <td>0</td>\n",
              "      <td>0</td>\n",
              "      <td>NaN</td>\n",
              "      <td>NaN</td>\n",
              "      <td>NaN</td>\n",
              "      <td>0</td>\n",
              "      <td>5</td>\n",
              "      <td>2007</td>\n",
              "      <td>WD</td>\n",
              "      <td>Normal</td>\n",
              "      <td>181500</td>\n",
              "    </tr>\n",
              "    <tr>\n",
              "      <th>3</th>\n",
              "      <td>60</td>\n",
              "      <td>RL</td>\n",
              "      <td>68.0</td>\n",
              "      <td>11250</td>\n",
              "      <td>Pave</td>\n",
              "      <td>NaN</td>\n",
              "      <td>IR1</td>\n",
              "      <td>Lvl</td>\n",
              "      <td>AllPub</td>\n",
              "      <td>Inside</td>\n",
              "      <td>Gtl</td>\n",
              "      <td>CollgCr</td>\n",
              "      <td>Norm</td>\n",
              "      <td>Norm</td>\n",
              "      <td>1Fam</td>\n",
              "      <td>2Story</td>\n",
              "      <td>7</td>\n",
              "      <td>5</td>\n",
              "      <td>2001</td>\n",
              "      <td>2002</td>\n",
              "      <td>Gable</td>\n",
              "      <td>CompShg</td>\n",
              "      <td>VinylSd</td>\n",
              "      <td>VinylSd</td>\n",
              "      <td>BrkFace</td>\n",
              "      <td>162.0</td>\n",
              "      <td>Gd</td>\n",
              "      <td>TA</td>\n",
              "      <td>PConc</td>\n",
              "      <td>Gd</td>\n",
              "      <td>TA</td>\n",
              "      <td>Mn</td>\n",
              "      <td>GLQ</td>\n",
              "      <td>486</td>\n",
              "      <td>Unf</td>\n",
              "      <td>0</td>\n",
              "      <td>434</td>\n",
              "      <td>920</td>\n",
              "      <td>GasA</td>\n",
              "      <td>Ex</td>\n",
              "      <td>Y</td>\n",
              "      <td>SBrkr</td>\n",
              "      <td>920</td>\n",
              "      <td>866</td>\n",
              "      <td>0</td>\n",
              "      <td>1786</td>\n",
              "      <td>1</td>\n",
              "      <td>0</td>\n",
              "      <td>2</td>\n",
              "      <td>1</td>\n",
              "      <td>3</td>\n",
              "      <td>1</td>\n",
              "      <td>Gd</td>\n",
              "      <td>6</td>\n",
              "      <td>Typ</td>\n",
              "      <td>1</td>\n",
              "      <td>TA</td>\n",
              "      <td>Attchd</td>\n",
              "      <td>2001.0</td>\n",
              "      <td>RFn</td>\n",
              "      <td>2</td>\n",
              "      <td>608</td>\n",
              "      <td>TA</td>\n",
              "      <td>TA</td>\n",
              "      <td>Y</td>\n",
              "      <td>0</td>\n",
              "      <td>42</td>\n",
              "      <td>0</td>\n",
              "      <td>0</td>\n",
              "      <td>0</td>\n",
              "      <td>0</td>\n",
              "      <td>NaN</td>\n",
              "      <td>NaN</td>\n",
              "      <td>NaN</td>\n",
              "      <td>0</td>\n",
              "      <td>9</td>\n",
              "      <td>2008</td>\n",
              "      <td>WD</td>\n",
              "      <td>Normal</td>\n",
              "      <td>223500</td>\n",
              "    </tr>\n",
              "    <tr>\n",
              "      <th>4</th>\n",
              "      <td>70</td>\n",
              "      <td>RL</td>\n",
              "      <td>60.0</td>\n",
              "      <td>9550</td>\n",
              "      <td>Pave</td>\n",
              "      <td>NaN</td>\n",
              "      <td>IR1</td>\n",
              "      <td>Lvl</td>\n",
              "      <td>AllPub</td>\n",
              "      <td>Corner</td>\n",
              "      <td>Gtl</td>\n",
              "      <td>Crawfor</td>\n",
              "      <td>Norm</td>\n",
              "      <td>Norm</td>\n",
              "      <td>1Fam</td>\n",
              "      <td>2Story</td>\n",
              "      <td>7</td>\n",
              "      <td>5</td>\n",
              "      <td>1915</td>\n",
              "      <td>1970</td>\n",
              "      <td>Gable</td>\n",
              "      <td>CompShg</td>\n",
              "      <td>Wd Sdng</td>\n",
              "      <td>Wd Shng</td>\n",
              "      <td>None</td>\n",
              "      <td>0.0</td>\n",
              "      <td>TA</td>\n",
              "      <td>TA</td>\n",
              "      <td>BrkTil</td>\n",
              "      <td>TA</td>\n",
              "      <td>Gd</td>\n",
              "      <td>No</td>\n",
              "      <td>ALQ</td>\n",
              "      <td>216</td>\n",
              "      <td>Unf</td>\n",
              "      <td>0</td>\n",
              "      <td>540</td>\n",
              "      <td>756</td>\n",
              "      <td>GasA</td>\n",
              "      <td>Gd</td>\n",
              "      <td>Y</td>\n",
              "      <td>SBrkr</td>\n",
              "      <td>961</td>\n",
              "      <td>756</td>\n",
              "      <td>0</td>\n",
              "      <td>1717</td>\n",
              "      <td>1</td>\n",
              "      <td>0</td>\n",
              "      <td>1</td>\n",
              "      <td>0</td>\n",
              "      <td>3</td>\n",
              "      <td>1</td>\n",
              "      <td>Gd</td>\n",
              "      <td>7</td>\n",
              "      <td>Typ</td>\n",
              "      <td>1</td>\n",
              "      <td>Gd</td>\n",
              "      <td>Detchd</td>\n",
              "      <td>1998.0</td>\n",
              "      <td>Unf</td>\n",
              "      <td>3</td>\n",
              "      <td>642</td>\n",
              "      <td>TA</td>\n",
              "      <td>TA</td>\n",
              "      <td>Y</td>\n",
              "      <td>0</td>\n",
              "      <td>35</td>\n",
              "      <td>272</td>\n",
              "      <td>0</td>\n",
              "      <td>0</td>\n",
              "      <td>0</td>\n",
              "      <td>NaN</td>\n",
              "      <td>NaN</td>\n",
              "      <td>NaN</td>\n",
              "      <td>0</td>\n",
              "      <td>2</td>\n",
              "      <td>2006</td>\n",
              "      <td>WD</td>\n",
              "      <td>Abnorml</td>\n",
              "      <td>140000</td>\n",
              "    </tr>\n",
              "    <tr>\n",
              "      <th>5</th>\n",
              "      <td>60</td>\n",
              "      <td>RL</td>\n",
              "      <td>84.0</td>\n",
              "      <td>14260</td>\n",
              "      <td>Pave</td>\n",
              "      <td>NaN</td>\n",
              "      <td>IR1</td>\n",
              "      <td>Lvl</td>\n",
              "      <td>AllPub</td>\n",
              "      <td>FR2</td>\n",
              "      <td>Gtl</td>\n",
              "      <td>NoRidge</td>\n",
              "      <td>Norm</td>\n",
              "      <td>Norm</td>\n",
              "      <td>1Fam</td>\n",
              "      <td>2Story</td>\n",
              "      <td>8</td>\n",
              "      <td>5</td>\n",
              "      <td>2000</td>\n",
              "      <td>2000</td>\n",
              "      <td>Gable</td>\n",
              "      <td>CompShg</td>\n",
              "      <td>VinylSd</td>\n",
              "      <td>VinylSd</td>\n",
              "      <td>BrkFace</td>\n",
              "      <td>350.0</td>\n",
              "      <td>Gd</td>\n",
              "      <td>TA</td>\n",
              "      <td>PConc</td>\n",
              "      <td>Gd</td>\n",
              "      <td>TA</td>\n",
              "      <td>Av</td>\n",
              "      <td>GLQ</td>\n",
              "      <td>655</td>\n",
              "      <td>Unf</td>\n",
              "      <td>0</td>\n",
              "      <td>490</td>\n",
              "      <td>1145</td>\n",
              "      <td>GasA</td>\n",
              "      <td>Ex</td>\n",
              "      <td>Y</td>\n",
              "      <td>SBrkr</td>\n",
              "      <td>1145</td>\n",
              "      <td>1053</td>\n",
              "      <td>0</td>\n",
              "      <td>2198</td>\n",
              "      <td>1</td>\n",
              "      <td>0</td>\n",
              "      <td>2</td>\n",
              "      <td>1</td>\n",
              "      <td>4</td>\n",
              "      <td>1</td>\n",
              "      <td>Gd</td>\n",
              "      <td>9</td>\n",
              "      <td>Typ</td>\n",
              "      <td>1</td>\n",
              "      <td>TA</td>\n",
              "      <td>Attchd</td>\n",
              "      <td>2000.0</td>\n",
              "      <td>RFn</td>\n",
              "      <td>3</td>\n",
              "      <td>836</td>\n",
              "      <td>TA</td>\n",
              "      <td>TA</td>\n",
              "      <td>Y</td>\n",
              "      <td>192</td>\n",
              "      <td>84</td>\n",
              "      <td>0</td>\n",
              "      <td>0</td>\n",
              "      <td>0</td>\n",
              "      <td>0</td>\n",
              "      <td>NaN</td>\n",
              "      <td>NaN</td>\n",
              "      <td>NaN</td>\n",
              "      <td>0</td>\n",
              "      <td>12</td>\n",
              "      <td>2008</td>\n",
              "      <td>WD</td>\n",
              "      <td>Normal</td>\n",
              "      <td>250000</td>\n",
              "    </tr>\n",
              "  </tbody>\n",
              "</table>\n",
              "</div>"
            ],
            "text/plain": [
              "    MSSubClass MSZoning  LotFrontage  ...  SaleType SaleCondition SalePrice\n",
              "Id                                    ...                                  \n",
              "1           60       RL         65.0  ...        WD        Normal    208500\n",
              "2           20       RL         80.0  ...        WD        Normal    181500\n",
              "3           60       RL         68.0  ...        WD        Normal    223500\n",
              "4           70       RL         60.0  ...        WD       Abnorml    140000\n",
              "5           60       RL         84.0  ...        WD        Normal    250000\n",
              "\n",
              "[5 rows x 80 columns]"
            ]
          },
          "metadata": {
            "tags": []
          },
          "execution_count": 7
        }
      ]
    },
    {
      "cell_type": "code",
      "metadata": {
        "id": "Y70ekW7X4iPu",
        "colab_type": "code",
        "colab": {
          "base_uri": "https://localhost:8080/",
          "height": 1000
        },
        "outputId": "a924af72-a325-4003-b6fe-9d87475069ca"
      },
      "source": [
        "train_data.info()"
      ],
      "execution_count": 8,
      "outputs": [
        {
          "output_type": "stream",
          "text": [
            "<class 'pandas.core.frame.DataFrame'>\n",
            "Int64Index: 1460 entries, 1 to 1460\n",
            "Data columns (total 80 columns):\n",
            " #   Column         Non-Null Count  Dtype  \n",
            "---  ------         --------------  -----  \n",
            " 0   MSSubClass     1460 non-null   int64  \n",
            " 1   MSZoning       1460 non-null   object \n",
            " 2   LotFrontage    1201 non-null   float64\n",
            " 3   LotArea        1460 non-null   int64  \n",
            " 4   Street         1460 non-null   object \n",
            " 5   Alley          91 non-null     object \n",
            " 6   LotShape       1460 non-null   object \n",
            " 7   LandContour    1460 non-null   object \n",
            " 8   Utilities      1460 non-null   object \n",
            " 9   LotConfig      1460 non-null   object \n",
            " 10  LandSlope      1460 non-null   object \n",
            " 11  Neighborhood   1460 non-null   object \n",
            " 12  Condition1     1460 non-null   object \n",
            " 13  Condition2     1460 non-null   object \n",
            " 14  BldgType       1460 non-null   object \n",
            " 15  HouseStyle     1460 non-null   object \n",
            " 16  OverallQual    1460 non-null   int64  \n",
            " 17  OverallCond    1460 non-null   int64  \n",
            " 18  YearBuilt      1460 non-null   int64  \n",
            " 19  YearRemodAdd   1460 non-null   int64  \n",
            " 20  RoofStyle      1460 non-null   object \n",
            " 21  RoofMatl       1460 non-null   object \n",
            " 22  Exterior1st    1460 non-null   object \n",
            " 23  Exterior2nd    1460 non-null   object \n",
            " 24  MasVnrType     1452 non-null   object \n",
            " 25  MasVnrArea     1452 non-null   float64\n",
            " 26  ExterQual      1460 non-null   object \n",
            " 27  ExterCond      1460 non-null   object \n",
            " 28  Foundation     1460 non-null   object \n",
            " 29  BsmtQual       1423 non-null   object \n",
            " 30  BsmtCond       1423 non-null   object \n",
            " 31  BsmtExposure   1422 non-null   object \n",
            " 32  BsmtFinType1   1423 non-null   object \n",
            " 33  BsmtFinSF1     1460 non-null   int64  \n",
            " 34  BsmtFinType2   1422 non-null   object \n",
            " 35  BsmtFinSF2     1460 non-null   int64  \n",
            " 36  BsmtUnfSF      1460 non-null   int64  \n",
            " 37  TotalBsmtSF    1460 non-null   int64  \n",
            " 38  Heating        1460 non-null   object \n",
            " 39  HeatingQC      1460 non-null   object \n",
            " 40  CentralAir     1460 non-null   object \n",
            " 41  Electrical     1459 non-null   object \n",
            " 42  1stFlrSF       1460 non-null   int64  \n",
            " 43  2ndFlrSF       1460 non-null   int64  \n",
            " 44  LowQualFinSF   1460 non-null   int64  \n",
            " 45  GrLivArea      1460 non-null   int64  \n",
            " 46  BsmtFullBath   1460 non-null   int64  \n",
            " 47  BsmtHalfBath   1460 non-null   int64  \n",
            " 48  FullBath       1460 non-null   int64  \n",
            " 49  HalfBath       1460 non-null   int64  \n",
            " 50  BedroomAbvGr   1460 non-null   int64  \n",
            " 51  KitchenAbvGr   1460 non-null   int64  \n",
            " 52  KitchenQual    1460 non-null   object \n",
            " 53  TotRmsAbvGrd   1460 non-null   int64  \n",
            " 54  Functional     1460 non-null   object \n",
            " 55  Fireplaces     1460 non-null   int64  \n",
            " 56  FireplaceQu    770 non-null    object \n",
            " 57  GarageType     1379 non-null   object \n",
            " 58  GarageYrBlt    1379 non-null   float64\n",
            " 59  GarageFinish   1379 non-null   object \n",
            " 60  GarageCars     1460 non-null   int64  \n",
            " 61  GarageArea     1460 non-null   int64  \n",
            " 62  GarageQual     1379 non-null   object \n",
            " 63  GarageCond     1379 non-null   object \n",
            " 64  PavedDrive     1460 non-null   object \n",
            " 65  WoodDeckSF     1460 non-null   int64  \n",
            " 66  OpenPorchSF    1460 non-null   int64  \n",
            " 67  EnclosedPorch  1460 non-null   int64  \n",
            " 68  3SsnPorch      1460 non-null   int64  \n",
            " 69  ScreenPorch    1460 non-null   int64  \n",
            " 70  PoolArea       1460 non-null   int64  \n",
            " 71  PoolQC         7 non-null      object \n",
            " 72  Fence          281 non-null    object \n",
            " 73  MiscFeature    54 non-null     object \n",
            " 74  MiscVal        1460 non-null   int64  \n",
            " 75  MoSold         1460 non-null   int64  \n",
            " 76  YrSold         1460 non-null   int64  \n",
            " 77  SaleType       1460 non-null   object \n",
            " 78  SaleCondition  1460 non-null   object \n",
            " 79  SalePrice      1460 non-null   int64  \n",
            "dtypes: float64(3), int64(34), object(43)\n",
            "memory usage: 923.9+ KB\n"
          ],
          "name": "stdout"
        }
      ]
    },
    {
      "cell_type": "code",
      "metadata": {
        "id": "Nua5eNJZ4uAy",
        "colab_type": "code",
        "colab": {
          "base_uri": "https://localhost:8080/",
          "height": 34
        },
        "outputId": "f397589f-f400-4702-84ff-ed53db96b8fb"
      },
      "source": [
        "train_numeric_features = [x for x in train_data.columns if train_data.dtypes[x] in [np.float64, np.int64]]\n",
        "train_text_features = [x for x in train_data.columns if train_data.dtypes[x] == object]\n",
        "len(train_numeric_features + train_text_features)"
      ],
      "execution_count": 9,
      "outputs": [
        {
          "output_type": "execute_result",
          "data": {
            "text/plain": [
              "80"
            ]
          },
          "metadata": {
            "tags": []
          },
          "execution_count": 9
        }
      ]
    },
    {
      "cell_type": "code",
      "metadata": {
        "id": "dy0hdsJALSP9",
        "colab_type": "code",
        "colab": {
          "base_uri": "https://localhost:8080/",
          "height": 34
        },
        "outputId": "82ae678a-196a-47f2-c0ee-fca24aeb130e"
      },
      "source": [
        "test_numeric_features = [x for x in test_data.columns if test_data.dtypes[x] in [np.float64, np.int64]]\n",
        "test_text_features = [x for x in test_data.columns if test_data.dtypes[x] == object]\n",
        "len(test_numeric_features + test_text_features)"
      ],
      "execution_count": 10,
      "outputs": [
        {
          "output_type": "execute_result",
          "data": {
            "text/plain": [
              "79"
            ]
          },
          "metadata": {
            "tags": []
          },
          "execution_count": 10
        }
      ]
    },
    {
      "cell_type": "markdown",
      "metadata": {
        "id": "Gafet6Dw6Ptf",
        "colab_type": "text"
      },
      "source": [
        "### Inspect numeric values"
      ]
    },
    {
      "cell_type": "code",
      "metadata": {
        "id": "ubbuk43r5aEL",
        "colab_type": "code",
        "colab": {
          "base_uri": "https://localhost:8080/",
          "height": 1000
        },
        "outputId": "46e277b6-8da4-4ef6-e448-9fd4de85fab3"
      },
      "source": [
        "train_data.describe().T"
      ],
      "execution_count": 11,
      "outputs": [
        {
          "output_type": "execute_result",
          "data": {
            "text/html": [
              "<div>\n",
              "<style scoped>\n",
              "    .dataframe tbody tr th:only-of-type {\n",
              "        vertical-align: middle;\n",
              "    }\n",
              "\n",
              "    .dataframe tbody tr th {\n",
              "        vertical-align: top;\n",
              "    }\n",
              "\n",
              "    .dataframe thead th {\n",
              "        text-align: right;\n",
              "    }\n",
              "</style>\n",
              "<table border=\"1\" class=\"dataframe\">\n",
              "  <thead>\n",
              "    <tr style=\"text-align: right;\">\n",
              "      <th></th>\n",
              "      <th>count</th>\n",
              "      <th>mean</th>\n",
              "      <th>std</th>\n",
              "      <th>min</th>\n",
              "      <th>25%</th>\n",
              "      <th>50%</th>\n",
              "      <th>75%</th>\n",
              "      <th>max</th>\n",
              "    </tr>\n",
              "  </thead>\n",
              "  <tbody>\n",
              "    <tr>\n",
              "      <th>MSSubClass</th>\n",
              "      <td>1460.0</td>\n",
              "      <td>56.897260</td>\n",
              "      <td>42.300571</td>\n",
              "      <td>20.0</td>\n",
              "      <td>20.00</td>\n",
              "      <td>50.0</td>\n",
              "      <td>70.00</td>\n",
              "      <td>190.0</td>\n",
              "    </tr>\n",
              "    <tr>\n",
              "      <th>LotFrontage</th>\n",
              "      <td>1201.0</td>\n",
              "      <td>70.049958</td>\n",
              "      <td>24.284752</td>\n",
              "      <td>21.0</td>\n",
              "      <td>59.00</td>\n",
              "      <td>69.0</td>\n",
              "      <td>80.00</td>\n",
              "      <td>313.0</td>\n",
              "    </tr>\n",
              "    <tr>\n",
              "      <th>LotArea</th>\n",
              "      <td>1460.0</td>\n",
              "      <td>10516.828082</td>\n",
              "      <td>9981.264932</td>\n",
              "      <td>1300.0</td>\n",
              "      <td>7553.50</td>\n",
              "      <td>9478.5</td>\n",
              "      <td>11601.50</td>\n",
              "      <td>215245.0</td>\n",
              "    </tr>\n",
              "    <tr>\n",
              "      <th>OverallQual</th>\n",
              "      <td>1460.0</td>\n",
              "      <td>6.099315</td>\n",
              "      <td>1.382997</td>\n",
              "      <td>1.0</td>\n",
              "      <td>5.00</td>\n",
              "      <td>6.0</td>\n",
              "      <td>7.00</td>\n",
              "      <td>10.0</td>\n",
              "    </tr>\n",
              "    <tr>\n",
              "      <th>OverallCond</th>\n",
              "      <td>1460.0</td>\n",
              "      <td>5.575342</td>\n",
              "      <td>1.112799</td>\n",
              "      <td>1.0</td>\n",
              "      <td>5.00</td>\n",
              "      <td>5.0</td>\n",
              "      <td>6.00</td>\n",
              "      <td>9.0</td>\n",
              "    </tr>\n",
              "    <tr>\n",
              "      <th>YearBuilt</th>\n",
              "      <td>1460.0</td>\n",
              "      <td>1971.267808</td>\n",
              "      <td>30.202904</td>\n",
              "      <td>1872.0</td>\n",
              "      <td>1954.00</td>\n",
              "      <td>1973.0</td>\n",
              "      <td>2000.00</td>\n",
              "      <td>2010.0</td>\n",
              "    </tr>\n",
              "    <tr>\n",
              "      <th>YearRemodAdd</th>\n",
              "      <td>1460.0</td>\n",
              "      <td>1984.865753</td>\n",
              "      <td>20.645407</td>\n",
              "      <td>1950.0</td>\n",
              "      <td>1967.00</td>\n",
              "      <td>1994.0</td>\n",
              "      <td>2004.00</td>\n",
              "      <td>2010.0</td>\n",
              "    </tr>\n",
              "    <tr>\n",
              "      <th>MasVnrArea</th>\n",
              "      <td>1452.0</td>\n",
              "      <td>103.685262</td>\n",
              "      <td>181.066207</td>\n",
              "      <td>0.0</td>\n",
              "      <td>0.00</td>\n",
              "      <td>0.0</td>\n",
              "      <td>166.00</td>\n",
              "      <td>1600.0</td>\n",
              "    </tr>\n",
              "    <tr>\n",
              "      <th>BsmtFinSF1</th>\n",
              "      <td>1460.0</td>\n",
              "      <td>443.639726</td>\n",
              "      <td>456.098091</td>\n",
              "      <td>0.0</td>\n",
              "      <td>0.00</td>\n",
              "      <td>383.5</td>\n",
              "      <td>712.25</td>\n",
              "      <td>5644.0</td>\n",
              "    </tr>\n",
              "    <tr>\n",
              "      <th>BsmtFinSF2</th>\n",
              "      <td>1460.0</td>\n",
              "      <td>46.549315</td>\n",
              "      <td>161.319273</td>\n",
              "      <td>0.0</td>\n",
              "      <td>0.00</td>\n",
              "      <td>0.0</td>\n",
              "      <td>0.00</td>\n",
              "      <td>1474.0</td>\n",
              "    </tr>\n",
              "    <tr>\n",
              "      <th>BsmtUnfSF</th>\n",
              "      <td>1460.0</td>\n",
              "      <td>567.240411</td>\n",
              "      <td>441.866955</td>\n",
              "      <td>0.0</td>\n",
              "      <td>223.00</td>\n",
              "      <td>477.5</td>\n",
              "      <td>808.00</td>\n",
              "      <td>2336.0</td>\n",
              "    </tr>\n",
              "    <tr>\n",
              "      <th>TotalBsmtSF</th>\n",
              "      <td>1460.0</td>\n",
              "      <td>1057.429452</td>\n",
              "      <td>438.705324</td>\n",
              "      <td>0.0</td>\n",
              "      <td>795.75</td>\n",
              "      <td>991.5</td>\n",
              "      <td>1298.25</td>\n",
              "      <td>6110.0</td>\n",
              "    </tr>\n",
              "    <tr>\n",
              "      <th>1stFlrSF</th>\n",
              "      <td>1460.0</td>\n",
              "      <td>1162.626712</td>\n",
              "      <td>386.587738</td>\n",
              "      <td>334.0</td>\n",
              "      <td>882.00</td>\n",
              "      <td>1087.0</td>\n",
              "      <td>1391.25</td>\n",
              "      <td>4692.0</td>\n",
              "    </tr>\n",
              "    <tr>\n",
              "      <th>2ndFlrSF</th>\n",
              "      <td>1460.0</td>\n",
              "      <td>346.992466</td>\n",
              "      <td>436.528436</td>\n",
              "      <td>0.0</td>\n",
              "      <td>0.00</td>\n",
              "      <td>0.0</td>\n",
              "      <td>728.00</td>\n",
              "      <td>2065.0</td>\n",
              "    </tr>\n",
              "    <tr>\n",
              "      <th>LowQualFinSF</th>\n",
              "      <td>1460.0</td>\n",
              "      <td>5.844521</td>\n",
              "      <td>48.623081</td>\n",
              "      <td>0.0</td>\n",
              "      <td>0.00</td>\n",
              "      <td>0.0</td>\n",
              "      <td>0.00</td>\n",
              "      <td>572.0</td>\n",
              "    </tr>\n",
              "    <tr>\n",
              "      <th>GrLivArea</th>\n",
              "      <td>1460.0</td>\n",
              "      <td>1515.463699</td>\n",
              "      <td>525.480383</td>\n",
              "      <td>334.0</td>\n",
              "      <td>1129.50</td>\n",
              "      <td>1464.0</td>\n",
              "      <td>1776.75</td>\n",
              "      <td>5642.0</td>\n",
              "    </tr>\n",
              "    <tr>\n",
              "      <th>BsmtFullBath</th>\n",
              "      <td>1460.0</td>\n",
              "      <td>0.425342</td>\n",
              "      <td>0.518911</td>\n",
              "      <td>0.0</td>\n",
              "      <td>0.00</td>\n",
              "      <td>0.0</td>\n",
              "      <td>1.00</td>\n",
              "      <td>3.0</td>\n",
              "    </tr>\n",
              "    <tr>\n",
              "      <th>BsmtHalfBath</th>\n",
              "      <td>1460.0</td>\n",
              "      <td>0.057534</td>\n",
              "      <td>0.238753</td>\n",
              "      <td>0.0</td>\n",
              "      <td>0.00</td>\n",
              "      <td>0.0</td>\n",
              "      <td>0.00</td>\n",
              "      <td>2.0</td>\n",
              "    </tr>\n",
              "    <tr>\n",
              "      <th>FullBath</th>\n",
              "      <td>1460.0</td>\n",
              "      <td>1.565068</td>\n",
              "      <td>0.550916</td>\n",
              "      <td>0.0</td>\n",
              "      <td>1.00</td>\n",
              "      <td>2.0</td>\n",
              "      <td>2.00</td>\n",
              "      <td>3.0</td>\n",
              "    </tr>\n",
              "    <tr>\n",
              "      <th>HalfBath</th>\n",
              "      <td>1460.0</td>\n",
              "      <td>0.382877</td>\n",
              "      <td>0.502885</td>\n",
              "      <td>0.0</td>\n",
              "      <td>0.00</td>\n",
              "      <td>0.0</td>\n",
              "      <td>1.00</td>\n",
              "      <td>2.0</td>\n",
              "    </tr>\n",
              "    <tr>\n",
              "      <th>BedroomAbvGr</th>\n",
              "      <td>1460.0</td>\n",
              "      <td>2.866438</td>\n",
              "      <td>0.815778</td>\n",
              "      <td>0.0</td>\n",
              "      <td>2.00</td>\n",
              "      <td>3.0</td>\n",
              "      <td>3.00</td>\n",
              "      <td>8.0</td>\n",
              "    </tr>\n",
              "    <tr>\n",
              "      <th>KitchenAbvGr</th>\n",
              "      <td>1460.0</td>\n",
              "      <td>1.046575</td>\n",
              "      <td>0.220338</td>\n",
              "      <td>0.0</td>\n",
              "      <td>1.00</td>\n",
              "      <td>1.0</td>\n",
              "      <td>1.00</td>\n",
              "      <td>3.0</td>\n",
              "    </tr>\n",
              "    <tr>\n",
              "      <th>TotRmsAbvGrd</th>\n",
              "      <td>1460.0</td>\n",
              "      <td>6.517808</td>\n",
              "      <td>1.625393</td>\n",
              "      <td>2.0</td>\n",
              "      <td>5.00</td>\n",
              "      <td>6.0</td>\n",
              "      <td>7.00</td>\n",
              "      <td>14.0</td>\n",
              "    </tr>\n",
              "    <tr>\n",
              "      <th>Fireplaces</th>\n",
              "      <td>1460.0</td>\n",
              "      <td>0.613014</td>\n",
              "      <td>0.644666</td>\n",
              "      <td>0.0</td>\n",
              "      <td>0.00</td>\n",
              "      <td>1.0</td>\n",
              "      <td>1.00</td>\n",
              "      <td>3.0</td>\n",
              "    </tr>\n",
              "    <tr>\n",
              "      <th>GarageYrBlt</th>\n",
              "      <td>1379.0</td>\n",
              "      <td>1978.506164</td>\n",
              "      <td>24.689725</td>\n",
              "      <td>1900.0</td>\n",
              "      <td>1961.00</td>\n",
              "      <td>1980.0</td>\n",
              "      <td>2002.00</td>\n",
              "      <td>2010.0</td>\n",
              "    </tr>\n",
              "    <tr>\n",
              "      <th>GarageCars</th>\n",
              "      <td>1460.0</td>\n",
              "      <td>1.767123</td>\n",
              "      <td>0.747315</td>\n",
              "      <td>0.0</td>\n",
              "      <td>1.00</td>\n",
              "      <td>2.0</td>\n",
              "      <td>2.00</td>\n",
              "      <td>4.0</td>\n",
              "    </tr>\n",
              "    <tr>\n",
              "      <th>GarageArea</th>\n",
              "      <td>1460.0</td>\n",
              "      <td>472.980137</td>\n",
              "      <td>213.804841</td>\n",
              "      <td>0.0</td>\n",
              "      <td>334.50</td>\n",
              "      <td>480.0</td>\n",
              "      <td>576.00</td>\n",
              "      <td>1418.0</td>\n",
              "    </tr>\n",
              "    <tr>\n",
              "      <th>WoodDeckSF</th>\n",
              "      <td>1460.0</td>\n",
              "      <td>94.244521</td>\n",
              "      <td>125.338794</td>\n",
              "      <td>0.0</td>\n",
              "      <td>0.00</td>\n",
              "      <td>0.0</td>\n",
              "      <td>168.00</td>\n",
              "      <td>857.0</td>\n",
              "    </tr>\n",
              "    <tr>\n",
              "      <th>OpenPorchSF</th>\n",
              "      <td>1460.0</td>\n",
              "      <td>46.660274</td>\n",
              "      <td>66.256028</td>\n",
              "      <td>0.0</td>\n",
              "      <td>0.00</td>\n",
              "      <td>25.0</td>\n",
              "      <td>68.00</td>\n",
              "      <td>547.0</td>\n",
              "    </tr>\n",
              "    <tr>\n",
              "      <th>EnclosedPorch</th>\n",
              "      <td>1460.0</td>\n",
              "      <td>21.954110</td>\n",
              "      <td>61.119149</td>\n",
              "      <td>0.0</td>\n",
              "      <td>0.00</td>\n",
              "      <td>0.0</td>\n",
              "      <td>0.00</td>\n",
              "      <td>552.0</td>\n",
              "    </tr>\n",
              "    <tr>\n",
              "      <th>3SsnPorch</th>\n",
              "      <td>1460.0</td>\n",
              "      <td>3.409589</td>\n",
              "      <td>29.317331</td>\n",
              "      <td>0.0</td>\n",
              "      <td>0.00</td>\n",
              "      <td>0.0</td>\n",
              "      <td>0.00</td>\n",
              "      <td>508.0</td>\n",
              "    </tr>\n",
              "    <tr>\n",
              "      <th>ScreenPorch</th>\n",
              "      <td>1460.0</td>\n",
              "      <td>15.060959</td>\n",
              "      <td>55.757415</td>\n",
              "      <td>0.0</td>\n",
              "      <td>0.00</td>\n",
              "      <td>0.0</td>\n",
              "      <td>0.00</td>\n",
              "      <td>480.0</td>\n",
              "    </tr>\n",
              "    <tr>\n",
              "      <th>PoolArea</th>\n",
              "      <td>1460.0</td>\n",
              "      <td>2.758904</td>\n",
              "      <td>40.177307</td>\n",
              "      <td>0.0</td>\n",
              "      <td>0.00</td>\n",
              "      <td>0.0</td>\n",
              "      <td>0.00</td>\n",
              "      <td>738.0</td>\n",
              "    </tr>\n",
              "    <tr>\n",
              "      <th>MiscVal</th>\n",
              "      <td>1460.0</td>\n",
              "      <td>43.489041</td>\n",
              "      <td>496.123024</td>\n",
              "      <td>0.0</td>\n",
              "      <td>0.00</td>\n",
              "      <td>0.0</td>\n",
              "      <td>0.00</td>\n",
              "      <td>15500.0</td>\n",
              "    </tr>\n",
              "    <tr>\n",
              "      <th>MoSold</th>\n",
              "      <td>1460.0</td>\n",
              "      <td>6.321918</td>\n",
              "      <td>2.703626</td>\n",
              "      <td>1.0</td>\n",
              "      <td>5.00</td>\n",
              "      <td>6.0</td>\n",
              "      <td>8.00</td>\n",
              "      <td>12.0</td>\n",
              "    </tr>\n",
              "    <tr>\n",
              "      <th>YrSold</th>\n",
              "      <td>1460.0</td>\n",
              "      <td>2007.815753</td>\n",
              "      <td>1.328095</td>\n",
              "      <td>2006.0</td>\n",
              "      <td>2007.00</td>\n",
              "      <td>2008.0</td>\n",
              "      <td>2009.00</td>\n",
              "      <td>2010.0</td>\n",
              "    </tr>\n",
              "    <tr>\n",
              "      <th>SalePrice</th>\n",
              "      <td>1460.0</td>\n",
              "      <td>180921.195890</td>\n",
              "      <td>79442.502883</td>\n",
              "      <td>34900.0</td>\n",
              "      <td>129975.00</td>\n",
              "      <td>163000.0</td>\n",
              "      <td>214000.00</td>\n",
              "      <td>755000.0</td>\n",
              "    </tr>\n",
              "  </tbody>\n",
              "</table>\n",
              "</div>"
            ],
            "text/plain": [
              "                count           mean  ...        75%       max\n",
              "MSSubClass     1460.0      56.897260  ...      70.00     190.0\n",
              "LotFrontage    1201.0      70.049958  ...      80.00     313.0\n",
              "LotArea        1460.0   10516.828082  ...   11601.50  215245.0\n",
              "OverallQual    1460.0       6.099315  ...       7.00      10.0\n",
              "OverallCond    1460.0       5.575342  ...       6.00       9.0\n",
              "YearBuilt      1460.0    1971.267808  ...    2000.00    2010.0\n",
              "YearRemodAdd   1460.0    1984.865753  ...    2004.00    2010.0\n",
              "MasVnrArea     1452.0     103.685262  ...     166.00    1600.0\n",
              "BsmtFinSF1     1460.0     443.639726  ...     712.25    5644.0\n",
              "BsmtFinSF2     1460.0      46.549315  ...       0.00    1474.0\n",
              "BsmtUnfSF      1460.0     567.240411  ...     808.00    2336.0\n",
              "TotalBsmtSF    1460.0    1057.429452  ...    1298.25    6110.0\n",
              "1stFlrSF       1460.0    1162.626712  ...    1391.25    4692.0\n",
              "2ndFlrSF       1460.0     346.992466  ...     728.00    2065.0\n",
              "LowQualFinSF   1460.0       5.844521  ...       0.00     572.0\n",
              "GrLivArea      1460.0    1515.463699  ...    1776.75    5642.0\n",
              "BsmtFullBath   1460.0       0.425342  ...       1.00       3.0\n",
              "BsmtHalfBath   1460.0       0.057534  ...       0.00       2.0\n",
              "FullBath       1460.0       1.565068  ...       2.00       3.0\n",
              "HalfBath       1460.0       0.382877  ...       1.00       2.0\n",
              "BedroomAbvGr   1460.0       2.866438  ...       3.00       8.0\n",
              "KitchenAbvGr   1460.0       1.046575  ...       1.00       3.0\n",
              "TotRmsAbvGrd   1460.0       6.517808  ...       7.00      14.0\n",
              "Fireplaces     1460.0       0.613014  ...       1.00       3.0\n",
              "GarageYrBlt    1379.0    1978.506164  ...    2002.00    2010.0\n",
              "GarageCars     1460.0       1.767123  ...       2.00       4.0\n",
              "GarageArea     1460.0     472.980137  ...     576.00    1418.0\n",
              "WoodDeckSF     1460.0      94.244521  ...     168.00     857.0\n",
              "OpenPorchSF    1460.0      46.660274  ...      68.00     547.0\n",
              "EnclosedPorch  1460.0      21.954110  ...       0.00     552.0\n",
              "3SsnPorch      1460.0       3.409589  ...       0.00     508.0\n",
              "ScreenPorch    1460.0      15.060959  ...       0.00     480.0\n",
              "PoolArea       1460.0       2.758904  ...       0.00     738.0\n",
              "MiscVal        1460.0      43.489041  ...       0.00   15500.0\n",
              "MoSold         1460.0       6.321918  ...       8.00      12.0\n",
              "YrSold         1460.0    2007.815753  ...    2009.00    2010.0\n",
              "SalePrice      1460.0  180921.195890  ...  214000.00  755000.0\n",
              "\n",
              "[37 rows x 8 columns]"
            ]
          },
          "metadata": {
            "tags": []
          },
          "execution_count": 11
        }
      ]
    },
    {
      "cell_type": "code",
      "metadata": {
        "id": "SIesUIQm6YHW",
        "colab_type": "code",
        "colab": {
          "base_uri": "https://localhost:8080/",
          "height": 1000
        },
        "outputId": "e5376eaa-63cc-460e-988e-fd3c0ea880b5"
      },
      "source": [
        "train_data[train_numeric_features].hist(bins=50, figsize=(25, 20))"
      ],
      "execution_count": 12,
      "outputs": [
        {
          "output_type": "execute_result",
          "data": {
            "text/plain": [
              "array([[<matplotlib.axes._subplots.AxesSubplot object at 0x7f9279da8a20>,\n",
              "        <matplotlib.axes._subplots.AxesSubplot object at 0x7f9279d080f0>,\n",
              "        <matplotlib.axes._subplots.AxesSubplot object at 0x7f9279cb4748>,\n",
              "        <matplotlib.axes._subplots.AxesSubplot object at 0x7f9279ce3da0>,\n",
              "        <matplotlib.axes._subplots.AxesSubplot object at 0x7f9279c9f438>,\n",
              "        <matplotlib.axes._subplots.AxesSubplot object at 0x7f9279c4da90>],\n",
              "       [<matplotlib.axes._subplots.AxesSubplot object at 0x7f9279c0b128>,\n",
              "        <matplotlib.axes._subplots.AxesSubplot object at 0x7f9279bbb748>,\n",
              "        <matplotlib.axes._subplots.AxesSubplot object at 0x7f9279bbb7b8>,\n",
              "        <matplotlib.axes._subplots.AxesSubplot object at 0x7f9279ba6470>,\n",
              "        <matplotlib.axes._subplots.AxesSubplot object at 0x7f9279b56ac8>,\n",
              "        <matplotlib.axes._subplots.AxesSubplot object at 0x7f9279b14160>],\n",
              "       [<matplotlib.axes._subplots.AxesSubplot object at 0x7f9279ac27b8>,\n",
              "        <matplotlib.axes._subplots.AxesSubplot object at 0x7f9279a75e10>,\n",
              "        <matplotlib.axes._subplots.AxesSubplot object at 0x7f9279ab04a8>,\n",
              "        <matplotlib.axes._subplots.AxesSubplot object at 0x7f9279a5fb00>,\n",
              "        <matplotlib.axes._subplots.AxesSubplot object at 0x7f9279a1c198>,\n",
              "        <matplotlib.axes._subplots.AxesSubplot object at 0x7f92799cc7f0>],\n",
              "       [<matplotlib.axes._subplots.AxesSubplot object at 0x7f927997de48>,\n",
              "        <matplotlib.axes._subplots.AxesSubplot object at 0x7f927993b4e0>,\n",
              "        <matplotlib.axes._subplots.AxesSubplot object at 0x7f927996bb38>,\n",
              "        <matplotlib.axes._subplots.AxesSubplot object at 0x7f92799281d0>,\n",
              "        <matplotlib.axes._subplots.AxesSubplot object at 0x7f92798d6828>,\n",
              "        <matplotlib.axes._subplots.AxesSubplot object at 0x7f927988ae80>],\n",
              "       [<matplotlib.axes._subplots.AxesSubplot object at 0x7f9279844518>,\n",
              "        <matplotlib.axes._subplots.AxesSubplot object at 0x7f92797f4b70>,\n",
              "        <matplotlib.axes._subplots.AxesSubplot object at 0x7f927982f208>,\n",
              "        <matplotlib.axes._subplots.AxesSubplot object at 0x7f92797e0860>,\n",
              "        <matplotlib.axes._subplots.AxesSubplot object at 0x7f9279c0be48>,\n",
              "        <matplotlib.axes._subplots.AxesSubplot object at 0x7f9279a81a20>],\n",
              "       [<matplotlib.axes._subplots.AxesSubplot object at 0x7f92798f8748>,\n",
              "        <matplotlib.axes._subplots.AxesSubplot object at 0x7f92797c7eb8>,\n",
              "        <matplotlib.axes._subplots.AxesSubplot object at 0x7f92796cf550>,\n",
              "        <matplotlib.axes._subplots.AxesSubplot object at 0x7f927967fba8>,\n",
              "        <matplotlib.axes._subplots.AxesSubplot object at 0x7f927963d240>,\n",
              "        <matplotlib.axes._subplots.AxesSubplot object at 0x7f927966b898>],\n",
              "       [<matplotlib.axes._subplots.AxesSubplot object at 0x7f927961def0>,\n",
              "        <matplotlib.axes._subplots.AxesSubplot object at 0x7f92795d8588>,\n",
              "        <matplotlib.axes._subplots.AxesSubplot object at 0x7f927958abe0>,\n",
              "        <matplotlib.axes._subplots.AxesSubplot object at 0x7f9279546278>,\n",
              "        <matplotlib.axes._subplots.AxesSubplot object at 0x7f92794f78d0>,\n",
              "        <matplotlib.axes._subplots.AxesSubplot object at 0x7f9279526f28>]],\n",
              "      dtype=object)"
            ]
          },
          "metadata": {
            "tags": []
          },
          "execution_count": 12
        },
        {
          "output_type": "display_data",
          "data": {
            "image/png": "[encoded data removed]",
            "text/plain": [
              "<Figure size 1800x1440 with 42 Axes>"
            ]
          },
          "metadata": {
            "tags": []
          }
        }
      ]
    },
    {
      "cell_type": "code",
      "metadata": {
        "id": "3GT7dUPI62IV",
        "colab_type": "code",
        "colab": {
          "base_uri": "https://localhost:8080/",
          "height": 635
        },
        "outputId": "942a98d1-563f-43dc-f44b-3e32c240ee18"
      },
      "source": [
        "plt.figure(figsize=(12, 9))\n",
        "corr = train_data[train_numeric_features].corr()\n",
        "sns.heatmap(corr)"
      ],
      "execution_count": 13,
      "outputs": [
        {
          "output_type": "execute_result",
          "data": {
            "text/plain": [
              "<matplotlib.axes._subplots.AxesSubplot at 0x7f927a54eb00>"
            ]
          },
          "metadata": {
            "tags": []
          },
          "execution_count": 13
        },
        {
          "output_type": "display_data",
          "data": {
            "image/png": "[encoded data removed]",
            "text/plain": [
              "<Figure size 864x648 with 2 Axes>"
            ]
          },
          "metadata": {
            "tags": []
          }
        }
      ]
    },
    {
      "cell_type": "markdown",
      "metadata": {
        "id": "Kc3QbR9FDNN4",
        "colab_type": "text"
      },
      "source": [
        "### Inspect text features"
      ]
    },
    {
      "cell_type": "code",
      "metadata": {
        "id": "YptWdXxt8yuf",
        "colab_type": "code",
        "colab": {
          "base_uri": "https://localhost:8080/",
          "height": 1000
        },
        "outputId": "9edacded-727b-44db-e12f-a54df3b8d5af"
      },
      "source": [
        "for feature in train_text_features:\n",
        "    print(feature)\n",
        "    print(train_data[feature].value_counts())\n",
        "    print()"
      ],
      "execution_count": 14,
      "outputs": [
        {
          "output_type": "stream",
          "text": [
            "MSZoning\n",
            "RL         1151\n",
            "RM          218\n",
            "FV           65\n",
            "RH           16\n",
            "C (all)      10\n",
            "Name: MSZoning, dtype: int64\n",
            "\n",
            "Street\n",
            "Pave    1454\n",
            "Grvl       6\n",
            "Name: Street, dtype: int64\n",
            "\n",
            "Alley\n",
            "Grvl    50\n",
            "Pave    41\n",
            "Name: Alley, dtype: int64\n",
            "\n",
            "LotShape\n",
            "Reg    925\n",
            "IR1    484\n",
            "IR2     41\n",
            "IR3     10\n",
            "Name: LotShape, dtype: int64\n",
            "\n",
            "LandContour\n",
            "Lvl    1311\n",
            "Bnk      63\n",
            "HLS      50\n",
            "Low      36\n",
            "Name: LandContour, dtype: int64\n",
            "\n",
            "Utilities\n",
            "AllPub    1459\n",
            "NoSeWa       1\n",
            "Name: Utilities, dtype: int64\n",
            "\n",
            "LotConfig\n",
            "Inside     1052\n",
            "Corner      263\n",
            "CulDSac      94\n",
            "FR2          47\n",
            "FR3           4\n",
            "Name: LotConfig, dtype: int64\n",
            "\n",
            "LandSlope\n",
            "Gtl    1382\n",
            "Mod      65\n",
            "Sev      13\n",
            "Name: LandSlope, dtype: int64\n",
            "\n",
            "Neighborhood\n",
            "NAmes      225\n",
            "CollgCr    150\n",
            "OldTown    113\n",
            "Edwards    100\n",
            "Somerst     86\n",
            "Gilbert     79\n",
            "NridgHt     77\n",
            "Sawyer      74\n",
            "NWAmes      73\n",
            "SawyerW     59\n",
            "BrkSide     58\n",
            "Crawfor     51\n",
            "Mitchel     49\n",
            "NoRidge     41\n",
            "Timber      38\n",
            "IDOTRR      37\n",
            "ClearCr     28\n",
            "SWISU       25\n",
            "StoneBr     25\n",
            "MeadowV     17\n",
            "Blmngtn     17\n",
            "BrDale      16\n",
            "Veenker     11\n",
            "NPkVill      9\n",
            "Blueste      2\n",
            "Name: Neighborhood, dtype: int64\n",
            "\n",
            "Condition1\n",
            "Norm      1260\n",
            "Feedr       81\n",
            "Artery      48\n",
            "RRAn        26\n",
            "PosN        19\n",
            "RRAe        11\n",
            "PosA         8\n",
            "RRNn         5\n",
            "RRNe         2\n",
            "Name: Condition1, dtype: int64\n",
            "\n",
            "Condition2\n",
            "Norm      1445\n",
            "Feedr        6\n",
            "Artery       2\n",
            "PosN         2\n",
            "RRNn         2\n",
            "RRAe         1\n",
            "RRAn         1\n",
            "PosA         1\n",
            "Name: Condition2, dtype: int64\n",
            "\n",
            "BldgType\n",
            "1Fam      1220\n",
            "TwnhsE     114\n",
            "Duplex      52\n",
            "Twnhs       43\n",
            "2fmCon      31\n",
            "Name: BldgType, dtype: int64\n",
            "\n",
            "HouseStyle\n",
            "1Story    726\n",
            "2Story    445\n",
            "1.5Fin    154\n",
            "SLvl       65\n",
            "SFoyer     37\n",
            "1.5Unf     14\n",
            "2.5Unf     11\n",
            "2.5Fin      8\n",
            "Name: HouseStyle, dtype: int64\n",
            "\n",
            "RoofStyle\n",
            "Gable      1141\n",
            "Hip         286\n",
            "Flat         13\n",
            "Gambrel      11\n",
            "Mansard       7\n",
            "Shed          2\n",
            "Name: RoofStyle, dtype: int64\n",
            "\n",
            "RoofMatl\n",
            "CompShg    1434\n",
            "Tar&Grv      11\n",
            "WdShngl       6\n",
            "WdShake       5\n",
            "Membran       1\n",
            "ClyTile       1\n",
            "Metal         1\n",
            "Roll          1\n",
            "Name: RoofMatl, dtype: int64\n",
            "\n",
            "Exterior1st\n",
            "VinylSd    515\n",
            "HdBoard    222\n",
            "MetalSd    220\n",
            "Wd Sdng    206\n",
            "Plywood    108\n",
            "CemntBd     61\n",
            "BrkFace     50\n",
            "WdShing     26\n",
            "Stucco      25\n",
            "AsbShng     20\n",
            "BrkComm      2\n",
            "Stone        2\n",
            "CBlock       1\n",
            "ImStucc      1\n",
            "AsphShn      1\n",
            "Name: Exterior1st, dtype: int64\n",
            "\n",
            "Exterior2nd\n",
            "VinylSd    504\n",
            "MetalSd    214\n",
            "HdBoard    207\n",
            "Wd Sdng    197\n",
            "Plywood    142\n",
            "CmentBd     60\n",
            "Wd Shng     38\n",
            "Stucco      26\n",
            "BrkFace     25\n",
            "AsbShng     20\n",
            "ImStucc     10\n",
            "Brk Cmn      7\n",
            "Stone        5\n",
            "AsphShn      3\n",
            "CBlock       1\n",
            "Other        1\n",
            "Name: Exterior2nd, dtype: int64\n",
            "\n",
            "MasVnrType\n",
            "None       864\n",
            "BrkFace    445\n",
            "Stone      128\n",
            "BrkCmn      15\n",
            "Name: MasVnrType, dtype: int64\n",
            "\n",
            "ExterQual\n",
            "TA    906\n",
            "Gd    488\n",
            "Ex     52\n",
            "Fa     14\n",
            "Name: ExterQual, dtype: int64\n",
            "\n",
            "ExterCond\n",
            "TA    1282\n",
            "Gd     146\n",
            "Fa      28\n",
            "Ex       3\n",
            "Po       1\n",
            "Name: ExterCond, dtype: int64\n",
            "\n",
            "Foundation\n",
            "PConc     647\n",
            "CBlock    634\n",
            "BrkTil    146\n",
            "Slab       24\n",
            "Stone       6\n",
            "Wood        3\n",
            "Name: Foundation, dtype: int64\n",
            "\n",
            "BsmtQual\n",
            "TA    649\n",
            "Gd    618\n",
            "Ex    121\n",
            "Fa     35\n",
            "Name: BsmtQual, dtype: int64\n",
            "\n",
            "BsmtCond\n",
            "TA    1311\n",
            "Gd      65\n",
            "Fa      45\n",
            "Po       2\n",
            "Name: BsmtCond, dtype: int64\n",
            "\n",
            "BsmtExposure\n",
            "No    953\n",
            "Av    221\n",
            "Gd    134\n",
            "Mn    114\n",
            "Name: BsmtExposure, dtype: int64\n",
            "\n",
            "BsmtFinType1\n",
            "Unf    430\n",
            "GLQ    418\n",
            "ALQ    220\n",
            "BLQ    148\n",
            "Rec    133\n",
            "LwQ     74\n",
            "Name: BsmtFinType1, dtype: int64\n",
            "\n",
            "BsmtFinType2\n",
            "Unf    1256\n",
            "Rec      54\n",
            "LwQ      46\n",
            "BLQ      33\n",
            "ALQ      19\n",
            "GLQ      14\n",
            "Name: BsmtFinType2, dtype: int64\n",
            "\n",
            "Heating\n",
            "GasA     1428\n",
            "GasW       18\n",
            "Grav        7\n",
            "Wall        4\n",
            "OthW        2\n",
            "Floor       1\n",
            "Name: Heating, dtype: int64\n",
            "\n",
            "HeatingQC\n",
            "Ex    741\n",
            "TA    428\n",
            "Gd    241\n",
            "Fa     49\n",
            "Po      1\n",
            "Name: HeatingQC, dtype: int64\n",
            "\n",
            "CentralAir\n",
            "Y    1365\n",
            "N      95\n",
            "Name: CentralAir, dtype: int64\n",
            "\n",
            "Electrical\n",
            "SBrkr    1334\n",
            "FuseA      94\n",
            "FuseF      27\n",
            "FuseP       3\n",
            "Mix         1\n",
            "Name: Electrical, dtype: int64\n",
            "\n",
            "KitchenQual\n",
            "TA    735\n",
            "Gd    586\n",
            "Ex    100\n",
            "Fa     39\n",
            "Name: KitchenQual, dtype: int64\n",
            "\n",
            "Functional\n",
            "Typ     1360\n",
            "Min2      34\n",
            "Min1      31\n",
            "Mod       15\n",
            "Maj1      14\n",
            "Maj2       5\n",
            "Sev        1\n",
            "Name: Functional, dtype: int64\n",
            "\n",
            "FireplaceQu\n",
            "Gd    380\n",
            "TA    313\n",
            "Fa     33\n",
            "Ex     24\n",
            "Po     20\n",
            "Name: FireplaceQu, dtype: int64\n",
            "\n",
            "GarageType\n",
            "Attchd     870\n",
            "Detchd     387\n",
            "BuiltIn     88\n",
            "Basment     19\n",
            "CarPort      9\n",
            "2Types       6\n",
            "Name: GarageType, dtype: int64\n",
            "\n",
            "GarageFinish\n",
            "Unf    605\n",
            "RFn    422\n",
            "Fin    352\n",
            "Name: GarageFinish, dtype: int64\n",
            "\n",
            "GarageQual\n",
            "TA    1311\n",
            "Fa      48\n",
            "Gd      14\n",
            "Po       3\n",
            "Ex       3\n",
            "Name: GarageQual, dtype: int64\n",
            "\n",
            "GarageCond\n",
            "TA    1326\n",
            "Fa      35\n",
            "Gd       9\n",
            "Po       7\n",
            "Ex       2\n",
            "Name: GarageCond, dtype: int64\n",
            "\n",
            "PavedDrive\n",
            "Y    1340\n",
            "N      90\n",
            "P      30\n",
            "Name: PavedDrive, dtype: int64\n",
            "\n",
            "PoolQC\n",
            "Gd    3\n",
            "Fa    2\n",
            "Ex    2\n",
            "Name: PoolQC, dtype: int64\n",
            "\n",
            "Fence\n",
            "MnPrv    157\n",
            "GdPrv     59\n",
            "GdWo      54\n",
            "MnWw      11\n",
            "Name: Fence, dtype: int64\n",
            "\n",
            "MiscFeature\n",
            "Shed    49\n",
            "Gar2     2\n",
            "Othr     2\n",
            "TenC     1\n",
            "Name: MiscFeature, dtype: int64\n",
            "\n",
            "SaleType\n",
            "WD       1267\n",
            "New       122\n",
            "COD        43\n",
            "ConLD       9\n",
            "ConLI       5\n",
            "ConLw       5\n",
            "CWD         4\n",
            "Oth         3\n",
            "Con         2\n",
            "Name: SaleType, dtype: int64\n",
            "\n",
            "SaleCondition\n",
            "Normal     1198\n",
            "Partial     125\n",
            "Abnorml     101\n",
            "Family       20\n",
            "Alloca       12\n",
            "AdjLand       4\n",
            "Name: SaleCondition, dtype: int64\n",
            "\n"
          ],
          "name": "stdout"
        }
      ]
    },
    {
      "cell_type": "code",
      "metadata": {
        "id": "WvWEMFm2MIK_",
        "colab_type": "code",
        "colab": {
          "base_uri": "https://localhost:8080/",
          "height": 1000
        },
        "outputId": "4f532560-6be8-4374-9256-e032aedc901f"
      },
      "source": [
        "for feature in test_text_features:\n",
        "    print(feature)\n",
        "    print(test_data[feature].value_counts())\n",
        "    print()"
      ],
      "execution_count": 15,
      "outputs": [
        {
          "output_type": "stream",
          "text": [
            "MSZoning\n",
            "RL         1114\n",
            "RM          242\n",
            "FV           74\n",
            "C (all)      15\n",
            "RH           10\n",
            "Name: MSZoning, dtype: int64\n",
            "\n",
            "Street\n",
            "Pave    1453\n",
            "Grvl       6\n",
            "Name: Street, dtype: int64\n",
            "\n",
            "Alley\n",
            "Grvl    70\n",
            "Pave    37\n",
            "Name: Alley, dtype: int64\n",
            "\n",
            "LotShape\n",
            "Reg    934\n",
            "IR1    484\n",
            "IR2     35\n",
            "IR3      6\n",
            "Name: LotShape, dtype: int64\n",
            "\n",
            "LandContour\n",
            "Lvl    1311\n",
            "HLS      70\n",
            "Bnk      54\n",
            "Low      24\n",
            "Name: LandContour, dtype: int64\n",
            "\n",
            "Utilities\n",
            "AllPub    1457\n",
            "Name: Utilities, dtype: int64\n",
            "\n",
            "LotConfig\n",
            "Inside     1081\n",
            "Corner      248\n",
            "CulDSac      82\n",
            "FR2          38\n",
            "FR3          10\n",
            "Name: LotConfig, dtype: int64\n",
            "\n",
            "LandSlope\n",
            "Gtl    1396\n",
            "Mod      60\n",
            "Sev       3\n",
            "Name: LandSlope, dtype: int64\n",
            "\n",
            "Neighborhood\n",
            "NAmes      218\n",
            "OldTown    126\n",
            "CollgCr    117\n",
            "Somerst     96\n",
            "Edwards     94\n",
            "NridgHt     89\n",
            "Gilbert     86\n",
            "Sawyer      77\n",
            "SawyerW     66\n",
            "Mitchel     65\n",
            "NWAmes      58\n",
            "IDOTRR      56\n",
            "Crawfor     52\n",
            "BrkSide     50\n",
            "Timber      34\n",
            "NoRidge     30\n",
            "StoneBr     26\n",
            "SWISU       23\n",
            "MeadowV     20\n",
            "ClearCr     16\n",
            "BrDale      14\n",
            "NPkVill     14\n",
            "Veenker     13\n",
            "Blmngtn     11\n",
            "Blueste      8\n",
            "Name: Neighborhood, dtype: int64\n",
            "\n",
            "Condition1\n",
            "Norm      1251\n",
            "Feedr       83\n",
            "Artery      44\n",
            "RRAn        24\n",
            "PosN        20\n",
            "RRAe        17\n",
            "PosA        12\n",
            "RRNe         4\n",
            "RRNn         4\n",
            "Name: Condition1, dtype: int64\n",
            "\n",
            "Condition2\n",
            "Norm      1444\n",
            "Feedr        7\n",
            "Artery       3\n",
            "PosA         3\n",
            "PosN         2\n",
            "Name: Condition2, dtype: int64\n",
            "\n",
            "BldgType\n",
            "1Fam      1205\n",
            "TwnhsE     113\n",
            "Duplex      57\n",
            "Twnhs       53\n",
            "2fmCon      31\n",
            "Name: BldgType, dtype: int64\n",
            "\n",
            "HouseStyle\n",
            "1Story    745\n",
            "2Story    427\n",
            "1.5Fin    160\n",
            "SLvl       63\n",
            "SFoyer     46\n",
            "2.5Unf     13\n",
            "1.5Unf      5\n",
            "Name: HouseStyle, dtype: int64\n",
            "\n",
            "RoofStyle\n",
            "Gable      1169\n",
            "Hip         265\n",
            "Gambrel      11\n",
            "Flat          7\n",
            "Mansard       4\n",
            "Shed          3\n",
            "Name: RoofStyle, dtype: int64\n",
            "\n",
            "RoofMatl\n",
            "CompShg    1442\n",
            "Tar&Grv      12\n",
            "WdShake       4\n",
            "WdShngl       1\n",
            "Name: RoofMatl, dtype: int64\n",
            "\n",
            "Exterior1st\n",
            "VinylSd    510\n",
            "MetalSd    230\n",
            "HdBoard    220\n",
            "Wd Sdng    205\n",
            "Plywood    113\n",
            "CemntBd     65\n",
            "BrkFace     37\n",
            "WdShing     30\n",
            "AsbShng     24\n",
            "Stucco      18\n",
            "BrkComm      4\n",
            "CBlock       1\n",
            "AsphShn      1\n",
            "Name: Exterior1st, dtype: int64\n",
            "\n",
            "Exterior2nd\n",
            "VinylSd    510\n",
            "MetalSd    233\n",
            "HdBoard    199\n",
            "Wd Sdng    194\n",
            "Plywood    128\n",
            "CmentBd     66\n",
            "Wd Shng     43\n",
            "BrkFace     22\n",
            "Stucco      21\n",
            "AsbShng     18\n",
            "Brk Cmn     15\n",
            "ImStucc      5\n",
            "CBlock       2\n",
            "Stone        1\n",
            "AsphShn      1\n",
            "Name: Exterior2nd, dtype: int64\n",
            "\n",
            "MasVnrType\n",
            "None       878\n",
            "BrkFace    434\n",
            "Stone      121\n",
            "BrkCmn      10\n",
            "Name: MasVnrType, dtype: int64\n",
            "\n",
            "ExterQual\n",
            "TA    892\n",
            "Gd    491\n",
            "Ex     55\n",
            "Fa     21\n",
            "Name: ExterQual, dtype: int64\n",
            "\n",
            "ExterCond\n",
            "TA    1256\n",
            "Gd     153\n",
            "Fa      39\n",
            "Ex       9\n",
            "Po       2\n",
            "Name: ExterCond, dtype: int64\n",
            "\n",
            "Foundation\n",
            "PConc     661\n",
            "CBlock    601\n",
            "BrkTil    165\n",
            "Slab       25\n",
            "Stone       5\n",
            "Wood        2\n",
            "Name: Foundation, dtype: int64\n",
            "\n",
            "BsmtQual\n",
            "TA    634\n",
            "Gd    591\n",
            "Ex    137\n",
            "Fa     53\n",
            "Name: BsmtQual, dtype: int64\n",
            "\n",
            "BsmtCond\n",
            "TA    1295\n",
            "Fa      59\n",
            "Gd      57\n",
            "Po       3\n",
            "Name: BsmtCond, dtype: int64\n",
            "\n",
            "BsmtExposure\n",
            "No    951\n",
            "Av    197\n",
            "Gd    142\n",
            "Mn    125\n",
            "Name: BsmtExposure, dtype: int64\n",
            "\n",
            "BsmtFinType1\n",
            "GLQ    431\n",
            "Unf    421\n",
            "ALQ    209\n",
            "Rec    155\n",
            "BLQ    121\n",
            "LwQ     80\n",
            "Name: BsmtFinType1, dtype: int64\n",
            "\n",
            "BsmtFinType2\n",
            "Unf    1237\n",
            "Rec      51\n",
            "LwQ      41\n",
            "BLQ      35\n",
            "ALQ      33\n",
            "GLQ      20\n",
            "Name: BsmtFinType2, dtype: int64\n",
            "\n",
            "Heating\n",
            "GasA    1446\n",
            "GasW       9\n",
            "Grav       2\n",
            "Wall       2\n",
            "Name: Heating, dtype: int64\n",
            "\n",
            "HeatingQC\n",
            "Ex    752\n",
            "TA    429\n",
            "Gd    233\n",
            "Fa     43\n",
            "Po      2\n",
            "Name: HeatingQC, dtype: int64\n",
            "\n",
            "CentralAir\n",
            "Y    1358\n",
            "N     101\n",
            "Name: CentralAir, dtype: int64\n",
            "\n",
            "Electrical\n",
            "SBrkr    1337\n",
            "FuseA      94\n",
            "FuseF      23\n",
            "FuseP       5\n",
            "Name: Electrical, dtype: int64\n",
            "\n",
            "KitchenQual\n",
            "TA    757\n",
            "Gd    565\n",
            "Ex    105\n",
            "Fa     31\n",
            "Name: KitchenQual, dtype: int64\n",
            "\n",
            "Functional\n",
            "Typ     1357\n",
            "Min2      36\n",
            "Min1      34\n",
            "Mod       20\n",
            "Maj1       5\n",
            "Maj2       4\n",
            "Sev        1\n",
            "Name: Functional, dtype: int64\n",
            "\n",
            "FireplaceQu\n",
            "Gd    364\n",
            "TA    279\n",
            "Fa     41\n",
            "Po     26\n",
            "Ex     19\n",
            "Name: FireplaceQu, dtype: int64\n",
            "\n",
            "GarageType\n",
            "Attchd     853\n",
            "Detchd     392\n",
            "BuiltIn     98\n",
            "Basment     17\n",
            "2Types      17\n",
            "CarPort      6\n",
            "Name: GarageType, dtype: int64\n",
            "\n",
            "GarageFinish\n",
            "Unf    625\n",
            "RFn    389\n",
            "Fin    367\n",
            "Name: GarageFinish, dtype: int64\n",
            "\n",
            "GarageQual\n",
            "TA    1293\n",
            "Fa      76\n",
            "Gd      10\n",
            "Po       2\n",
            "Name: GarageQual, dtype: int64\n",
            "\n",
            "GarageCond\n",
            "TA    1328\n",
            "Fa      39\n",
            "Po       7\n",
            "Gd       6\n",
            "Ex       1\n",
            "Name: GarageCond, dtype: int64\n",
            "\n",
            "PavedDrive\n",
            "Y    1301\n",
            "N     126\n",
            "P      32\n",
            "Name: PavedDrive, dtype: int64\n",
            "\n",
            "PoolQC\n",
            "Ex    2\n",
            "Gd    1\n",
            "Name: PoolQC, dtype: int64\n",
            "\n",
            "Fence\n",
            "MnPrv    172\n",
            "GdPrv     59\n",
            "GdWo      58\n",
            "MnWw       1\n",
            "Name: Fence, dtype: int64\n",
            "\n",
            "MiscFeature\n",
            "Shed    46\n",
            "Gar2     3\n",
            "Othr     2\n",
            "Name: MiscFeature, dtype: int64\n",
            "\n",
            "SaleType\n",
            "WD       1258\n",
            "New       117\n",
            "COD        44\n",
            "ConLD      17\n",
            "CWD         8\n",
            "Oth         4\n",
            "ConLI       4\n",
            "Con         3\n",
            "ConLw       3\n",
            "Name: SaleType, dtype: int64\n",
            "\n",
            "SaleCondition\n",
            "Normal     1204\n",
            "Partial     120\n",
            "Abnorml      89\n",
            "Family       26\n",
            "Alloca       12\n",
            "AdjLand       8\n",
            "Name: SaleCondition, dtype: int64\n",
            "\n"
          ],
          "name": "stdout"
        }
      ]
    },
    {
      "cell_type": "markdown",
      "metadata": {
        "id": "1CDGjmUnES_8",
        "colab_type": "text"
      },
      "source": [
        "## Preprocessing data"
      ]
    },
    {
      "cell_type": "markdown",
      "metadata": {
        "id": "q3PKudzjEZOP",
        "colab_type": "text"
      },
      "source": [
        "### Missing values"
      ]
    },
    {
      "cell_type": "markdown",
      "metadata": {
        "id": "t3qrZqUzJSTf",
        "colab_type": "text"
      },
      "source": [
        "#### Removing columns with 70% of missing data"
      ]
    },
    {
      "cell_type": "code",
      "metadata": {
        "id": "Amur-ukrHQP8",
        "colab_type": "code",
        "colab": {}
      },
      "source": [
        "threshold = 0.7\n",
        "train_data_rows = train_data.shape[0]\n",
        "test_data_rows = test_data.shape[0]\n",
        "columns = train_data.columns"
      ],
      "execution_count": 16,
      "outputs": []
    },
    {
      "cell_type": "code",
      "metadata": {
        "id": "TT3ieW_nEW1p",
        "colab_type": "code",
        "colab": {
          "base_uri": "https://localhost:8080/",
          "height": 34
        },
        "outputId": "50a14301-5340-476a-f746-ded6ed4a0d41"
      },
      "source": [
        "train_missing_values = train_data.isna().sum()\n",
        "train_reject_features = [columns[col] for col, x in enumerate(train_missing_values) if x / train_data_rows > threshold]\n",
        "train_reject_features"
      ],
      "execution_count": 17,
      "outputs": [
        {
          "output_type": "execute_result",
          "data": {
            "text/plain": [
              "['Alley', 'PoolQC', 'Fence', 'MiscFeature']"
            ]
          },
          "metadata": {
            "tags": []
          },
          "execution_count": 17
        }
      ]
    },
    {
      "cell_type": "code",
      "metadata": {
        "id": "zQVdgFNYEgod",
        "colab_type": "code",
        "colab": {
          "base_uri": "https://localhost:8080/",
          "height": 34
        },
        "outputId": "238fb1d6-6982-42cb-b6e7-54d279661458"
      },
      "source": [
        "test_missing_values = test_data.isna().sum()\n",
        "test_reject_features = [columns[col] for col, x in enumerate(test_missing_values) if x / test_data_rows > threshold]\n",
        "test_reject_features"
      ],
      "execution_count": 18,
      "outputs": [
        {
          "output_type": "execute_result",
          "data": {
            "text/plain": [
              "['Alley', 'PoolQC', 'Fence', 'MiscFeature']"
            ]
          },
          "metadata": {
            "tags": []
          },
          "execution_count": 18
        }
      ]
    },
    {
      "cell_type": "code",
      "metadata": {
        "id": "GQgTL-yLG9_3",
        "colab_type": "code",
        "colab": {
          "base_uri": "https://localhost:8080/",
          "height": 34
        },
        "outputId": "490bd47b-582f-42e1-c3a5-19055cfe0e38"
      },
      "source": [
        "features_to_remove = set(train_reject_features + test_reject_features)\n",
        "features_to_remove"
      ],
      "execution_count": 19,
      "outputs": [
        {
          "output_type": "execute_result",
          "data": {
            "text/plain": [
              "{'Alley', 'Fence', 'MiscFeature', 'PoolQC'}"
            ]
          },
          "metadata": {
            "tags": []
          },
          "execution_count": 19
        }
      ]
    },
    {
      "cell_type": "code",
      "metadata": {
        "id": "BIH2u6_4ji9C",
        "colab_type": "code",
        "colab": {}
      },
      "source": [
        "for feature in features_to_remove:\n",
        "    try:\n",
        "        train_text_features.remove(feature)\n",
        "        test_text_features.remove(feature)\n",
        "    except:\n",
        "        pass\n",
        "\n",
        "for feature in features_to_remove:\n",
        "    try:\n",
        "        train_text_features.remove(feature)\n",
        "        test_text_features.remove(feature)\n",
        "    except:\n",
        "        pass"
      ],
      "execution_count": 20,
      "outputs": []
    },
    {
      "cell_type": "code",
      "metadata": {
        "id": "hS_yrvtkIe6R",
        "colab_type": "code",
        "colab": {
          "base_uri": "https://localhost:8080/",
          "height": 34
        },
        "outputId": "7710d4de-84ce-484b-9274-2b2d216e56ad"
      },
      "source": [
        "train_data = train_data[[x for x in train_data.columns if x not in features_to_remove]]\n",
        "test_data = test_data[[x for x in test_data.columns if x not in features_to_remove]]\n",
        "train_data.shape, test_data.shape"
      ],
      "execution_count": 21,
      "outputs": [
        {
          "output_type": "execute_result",
          "data": {
            "text/plain": [
              "((1460, 76), (1459, 75))"
            ]
          },
          "metadata": {
            "tags": []
          },
          "execution_count": 21
        }
      ]
    },
    {
      "cell_type": "markdown",
      "metadata": {
        "id": "BY1QXpOgJbc9",
        "colab_type": "text"
      },
      "source": [
        "#### Removing rows with 70% of missing data\n"
      ]
    },
    {
      "cell_type": "code",
      "metadata": {
        "id": "T-Og5A43I1fo",
        "colab_type": "code",
        "colab": {
          "base_uri": "https://localhost:8080/",
          "height": 34
        },
        "outputId": "4778212e-cc1a-4cc9-ed5d-decbaf404d5c"
      },
      "source": [
        "train_data = train_data.loc[train_data.isnull().mean(axis=1) < threshold]\n",
        "test_data = test_data.loc[test_data.isnull().mean(axis=1) < threshold]\n",
        "train_data.shape, test_data.shape"
      ],
      "execution_count": 22,
      "outputs": [
        {
          "output_type": "execute_result",
          "data": {
            "text/plain": [
              "((1460, 76), (1459, 75))"
            ]
          },
          "metadata": {
            "tags": []
          },
          "execution_count": 22
        }
      ]
    },
    {
      "cell_type": "markdown",
      "metadata": {
        "id": "j_l61jZ7JgIs",
        "colab_type": "text"
      },
      "source": [
        "### Filling missing data"
      ]
    },
    {
      "cell_type": "markdown",
      "metadata": {
        "id": "fwsxGpevPfjR",
        "colab_type": "text"
      },
      "source": [
        "#### Numeric features"
      ]
    },
    {
      "cell_type": "code",
      "metadata": {
        "id": "zgAHafdgJjQ-",
        "colab_type": "code",
        "colab": {
          "base_uri": "https://localhost:8080/",
          "height": 34
        },
        "outputId": "3f80e1f1-658e-4c3d-cc43-69a316492fa3"
      },
      "source": [
        "train_numeric_features_missing = [x for x in train_data[train_numeric_features] if train_data[x].isna().sum()]\n",
        "train_numeric_features_missing"
      ],
      "execution_count": 23,
      "outputs": [
        {
          "output_type": "execute_result",
          "data": {
            "text/plain": [
              "['LotFrontage', 'MasVnrArea', 'GarageYrBlt']"
            ]
          },
          "metadata": {
            "tags": []
          },
          "execution_count": 23
        }
      ]
    },
    {
      "cell_type": "code",
      "metadata": {
        "id": "ySDh7nxiJ6Hu",
        "colab_type": "code",
        "colab": {
          "base_uri": "https://localhost:8080/",
          "height": 204
        },
        "outputId": "ae90604d-6eb8-48f7-b127-6ced82b3dd11"
      },
      "source": [
        "test_numeric_features_missing = [x for x in test_data[test_numeric_features] if test_data[x].isna().sum()]\n",
        "test_numeric_features_missing"
      ],
      "execution_count": 24,
      "outputs": [
        {
          "output_type": "execute_result",
          "data": {
            "text/plain": [
              "['LotFrontage',\n",
              " 'MasVnrArea',\n",
              " 'BsmtFinSF1',\n",
              " 'BsmtFinSF2',\n",
              " 'BsmtUnfSF',\n",
              " 'TotalBsmtSF',\n",
              " 'BsmtFullBath',\n",
              " 'BsmtHalfBath',\n",
              " 'GarageYrBlt',\n",
              " 'GarageCars',\n",
              " 'GarageArea']"
            ]
          },
          "metadata": {
            "tags": []
          },
          "execution_count": 24
        }
      ]
    },
    {
      "cell_type": "code",
      "metadata": {
        "id": "2x0arH0GKGzF",
        "colab_type": "code",
        "colab": {
          "base_uri": "https://localhost:8080/",
          "height": 204
        },
        "outputId": "109df8c2-9a10-4137-e6a6-60db97029fd3"
      },
      "source": [
        "numeric_feature_missing = set(train_numeric_features_missing + test_numeric_features_missing)\n",
        "numeric_feature_missing"
      ],
      "execution_count": 25,
      "outputs": [
        {
          "output_type": "execute_result",
          "data": {
            "text/plain": [
              "{'BsmtFinSF1',\n",
              " 'BsmtFinSF2',\n",
              " 'BsmtFullBath',\n",
              " 'BsmtHalfBath',\n",
              " 'BsmtUnfSF',\n",
              " 'GarageArea',\n",
              " 'GarageCars',\n",
              " 'GarageYrBlt',\n",
              " 'LotFrontage',\n",
              " 'MasVnrArea',\n",
              " 'TotalBsmtSF'}"
            ]
          },
          "metadata": {
            "tags": []
          },
          "execution_count": 25
        }
      ]
    },
    {
      "cell_type": "code",
      "metadata": {
        "id": "i98MowGKKRPH",
        "colab_type": "code",
        "colab": {
          "base_uri": "https://localhost:8080/",
          "height": 719
        },
        "outputId": "5d5956ce-1333-432c-a401-8192ec09de7d"
      },
      "source": [
        "figure = train_data[numeric_feature_missing].hist(bins=50, figsize=(10, 12))\n",
        "plt.show()"
      ],
      "execution_count": 26,
      "outputs": [
        {
          "output_type": "display_data",
          "data": {
            "image/png": "[encoded data removed]",
            "text/plain": [
              "<Figure size 720x864 with 12 Axes>"
            ]
          },
          "metadata": {
            "tags": []
          }
        }
      ]
    },
    {
      "cell_type": "markdown",
      "metadata": {
        "id": "iG74NWrkPmn-",
        "colab_type": "text"
      },
      "source": [
        "##### Filling with mode"
      ]
    },
    {
      "cell_type": "code",
      "metadata": {
        "id": "KI4I6XfYNY6V",
        "colab_type": "code",
        "colab": {}
      },
      "source": [
        "features_ = ['BsmtFinSF1', 'BsmtFinSF2', 'BsmtFullBath', 'BsmtHalfBath', 'MasVnrArea', 'GarageCars']\n",
        "for feature in features_:\n",
        "    mode = train_data[feature].mode()[0]\n",
        "    train_data[feature] = train_data[feature].fillna(mode)\n",
        "    test_data[feature] = test_data[feature].fillna(mode)"
      ],
      "execution_count": 27,
      "outputs": []
    },
    {
      "cell_type": "code",
      "metadata": {
        "id": "tduqF7WVQHOq",
        "colab_type": "code",
        "colab": {
          "base_uri": "https://localhost:8080/",
          "height": 136
        },
        "outputId": "fb4ef74d-93dc-4722-c08f-095c4b6e6f49"
      },
      "source": [
        "train_data[features_].isna().sum()"
      ],
      "execution_count": 28,
      "outputs": [
        {
          "output_type": "execute_result",
          "data": {
            "text/plain": [
              "BsmtFinSF1      0\n",
              "BsmtFinSF2      0\n",
              "BsmtFullBath    0\n",
              "BsmtHalfBath    0\n",
              "MasVnrArea      0\n",
              "GarageCars      0\n",
              "dtype: int64"
            ]
          },
          "metadata": {
            "tags": []
          },
          "execution_count": 28
        }
      ]
    },
    {
      "cell_type": "code",
      "metadata": {
        "id": "PS437scAQaqb",
        "colab_type": "code",
        "colab": {
          "base_uri": "https://localhost:8080/",
          "height": 136
        },
        "outputId": "15b45b52-6520-447d-8e74-e4d862d476fd"
      },
      "source": [
        "test_data[features_].isna().sum()"
      ],
      "execution_count": 29,
      "outputs": [
        {
          "output_type": "execute_result",
          "data": {
            "text/plain": [
              "BsmtFinSF1      0\n",
              "BsmtFinSF2      0\n",
              "BsmtFullBath    0\n",
              "BsmtHalfBath    0\n",
              "MasVnrArea      0\n",
              "GarageCars      0\n",
              "dtype: int64"
            ]
          },
          "metadata": {
            "tags": []
          },
          "execution_count": 29
        }
      ]
    },
    {
      "cell_type": "markdown",
      "metadata": {
        "id": "C9aU1rHBVE__",
        "colab_type": "text"
      },
      "source": [
        "##### Filling with zero\n"
      ]
    },
    {
      "cell_type": "code",
      "metadata": {
        "id": "DAroQaT3Q8hG",
        "colab_type": "code",
        "colab": {}
      },
      "source": [
        "features_ = ['BsmtUnfSF', 'TotalBsmtSF', 'GarageYrBlt']\n",
        "for feature in features_:\n",
        "    train_data[feature] = train_data[feature].fillna(0)\n",
        "    test_data[feature] = test_data[feature].fillna(0)"
      ],
      "execution_count": 30,
      "outputs": []
    },
    {
      "cell_type": "code",
      "metadata": {
        "id": "Uu3QwovSVnu2",
        "colab_type": "code",
        "colab": {
          "base_uri": "https://localhost:8080/",
          "height": 85
        },
        "outputId": "2534d426-9812-48c8-9dd8-897d9078c2db"
      },
      "source": [
        "train_data[features_].isna().sum()"
      ],
      "execution_count": 31,
      "outputs": [
        {
          "output_type": "execute_result",
          "data": {
            "text/plain": [
              "BsmtUnfSF      0\n",
              "TotalBsmtSF    0\n",
              "GarageYrBlt    0\n",
              "dtype: int64"
            ]
          },
          "metadata": {
            "tags": []
          },
          "execution_count": 31
        }
      ]
    },
    {
      "cell_type": "code",
      "metadata": {
        "id": "bzIljnb4V9Hg",
        "colab_type": "code",
        "colab": {
          "base_uri": "https://localhost:8080/",
          "height": 85
        },
        "outputId": "81effcc3-0eb4-4d8b-e20c-c09c68579f29"
      },
      "source": [
        "test_data[features_].isna().sum()"
      ],
      "execution_count": 32,
      "outputs": [
        {
          "output_type": "execute_result",
          "data": {
            "text/plain": [
              "BsmtUnfSF      0\n",
              "TotalBsmtSF    0\n",
              "GarageYrBlt    0\n",
              "dtype: int64"
            ]
          },
          "metadata": {
            "tags": []
          },
          "execution_count": 32
        }
      ]
    },
    {
      "cell_type": "markdown",
      "metadata": {
        "id": "LDWB2nuoXdls",
        "colab_type": "text"
      },
      "source": [
        "##### Fill with mean"
      ]
    },
    {
      "cell_type": "code",
      "metadata": {
        "id": "Gjag3kFgWAP4",
        "colab_type": "code",
        "colab": {
          "base_uri": "https://localhost:8080/",
          "height": 80
        },
        "outputId": "4a98f609-2150-4908-80da-11bfe221fea5"
      },
      "source": [
        "train_data[['GarageType', 'GarageArea']][train_data['GarageArea'].isna()]"
      ],
      "execution_count": 33,
      "outputs": [
        {
          "output_type": "execute_result",
          "data": {
            "text/html": [
              "<div>\n",
              "<style scoped>\n",
              "    .dataframe tbody tr th:only-of-type {\n",
              "        vertical-align: middle;\n",
              "    }\n",
              "\n",
              "    .dataframe tbody tr th {\n",
              "        vertical-align: top;\n",
              "    }\n",
              "\n",
              "    .dataframe thead th {\n",
              "        text-align: right;\n",
              "    }\n",
              "</style>\n",
              "<table border=\"1\" class=\"dataframe\">\n",
              "  <thead>\n",
              "    <tr style=\"text-align: right;\">\n",
              "      <th></th>\n",
              "      <th>GarageType</th>\n",
              "      <th>GarageArea</th>\n",
              "    </tr>\n",
              "    <tr>\n",
              "      <th>Id</th>\n",
              "      <th></th>\n",
              "      <th></th>\n",
              "    </tr>\n",
              "  </thead>\n",
              "  <tbody>\n",
              "  </tbody>\n",
              "</table>\n",
              "</div>"
            ],
            "text/plain": [
              "Empty DataFrame\n",
              "Columns: [GarageType, GarageArea]\n",
              "Index: []"
            ]
          },
          "metadata": {
            "tags": []
          },
          "execution_count": 33
        }
      ]
    },
    {
      "cell_type": "code",
      "metadata": {
        "id": "Eoen9ou3W6eY",
        "colab_type": "code",
        "colab": {
          "base_uri": "https://localhost:8080/",
          "height": 111
        },
        "outputId": "74b3dea0-ba55-4420-e27a-f7b9202376ed"
      },
      "source": [
        "test_data[['GarageType', 'GarageArea',]][test_data['GarageArea'].isna()]"
      ],
      "execution_count": 34,
      "outputs": [
        {
          "output_type": "execute_result",
          "data": {
            "text/html": [
              "<div>\n",
              "<style scoped>\n",
              "    .dataframe tbody tr th:only-of-type {\n",
              "        vertical-align: middle;\n",
              "    }\n",
              "\n",
              "    .dataframe tbody tr th {\n",
              "        vertical-align: top;\n",
              "    }\n",
              "\n",
              "    .dataframe thead th {\n",
              "        text-align: right;\n",
              "    }\n",
              "</style>\n",
              "<table border=\"1\" class=\"dataframe\">\n",
              "  <thead>\n",
              "    <tr style=\"text-align: right;\">\n",
              "      <th></th>\n",
              "      <th>GarageType</th>\n",
              "      <th>GarageArea</th>\n",
              "    </tr>\n",
              "    <tr>\n",
              "      <th>Id</th>\n",
              "      <th></th>\n",
              "      <th></th>\n",
              "    </tr>\n",
              "  </thead>\n",
              "  <tbody>\n",
              "    <tr>\n",
              "      <th>2577</th>\n",
              "      <td>Detchd</td>\n",
              "      <td>NaN</td>\n",
              "    </tr>\n",
              "  </tbody>\n",
              "</table>\n",
              "</div>"
            ],
            "text/plain": [
              "     GarageType  GarageArea\n",
              "Id                         \n",
              "2577     Detchd         NaN"
            ]
          },
          "metadata": {
            "tags": []
          },
          "execution_count": 34
        }
      ]
    },
    {
      "cell_type": "code",
      "metadata": {
        "id": "BUVvSwZnXlFq",
        "colab_type": "code",
        "colab": {}
      },
      "source": [
        "garage_area_mean = train_data[train_data['GarageType'] == 'Detchd']['GarageArea'].mean()\n",
        "\n",
        "train_data['GarageArea'].fillna(garage_area_mean, inplace=True)\n",
        "test_data['GarageArea'].fillna(garage_area_mean, inplace=True)"
      ],
      "execution_count": 35,
      "outputs": []
    },
    {
      "cell_type": "code",
      "metadata": {
        "id": "DLaLUl8gZEy4",
        "colab_type": "code",
        "colab": {
          "base_uri": "https://localhost:8080/",
          "height": 80
        },
        "outputId": "c7c7c80e-b123-4550-fe03-c3d395115cba"
      },
      "source": [
        "test_data[['GarageType', 'GarageArea',]][test_data['GarageArea'].isna()]"
      ],
      "execution_count": 36,
      "outputs": [
        {
          "output_type": "execute_result",
          "data": {
            "text/html": [
              "<div>\n",
              "<style scoped>\n",
              "    .dataframe tbody tr th:only-of-type {\n",
              "        vertical-align: middle;\n",
              "    }\n",
              "\n",
              "    .dataframe tbody tr th {\n",
              "        vertical-align: top;\n",
              "    }\n",
              "\n",
              "    .dataframe thead th {\n",
              "        text-align: right;\n",
              "    }\n",
              "</style>\n",
              "<table border=\"1\" class=\"dataframe\">\n",
              "  <thead>\n",
              "    <tr style=\"text-align: right;\">\n",
              "      <th></th>\n",
              "      <th>GarageType</th>\n",
              "      <th>GarageArea</th>\n",
              "    </tr>\n",
              "    <tr>\n",
              "      <th>Id</th>\n",
              "      <th></th>\n",
              "      <th></th>\n",
              "    </tr>\n",
              "  </thead>\n",
              "  <tbody>\n",
              "  </tbody>\n",
              "</table>\n",
              "</div>"
            ],
            "text/plain": [
              "Empty DataFrame\n",
              "Columns: [GarageType, GarageArea]\n",
              "Index: []"
            ]
          },
          "metadata": {
            "tags": []
          },
          "execution_count": 36
        }
      ]
    },
    {
      "cell_type": "markdown",
      "metadata": {
        "id": "kkWBJy8-gPfx",
        "colab_type": "text"
      },
      "source": [
        "##### Fill with median"
      ]
    },
    {
      "cell_type": "code",
      "metadata": {
        "id": "rWjDDI-rfR9N",
        "colab_type": "code",
        "colab": {}
      },
      "source": [
        "lot_frontage_median = train_data['LotFrontage'].median()\n",
        "train_data['LotFrontage'] = train_data['LotFrontage'].fillna(lot_frontage_median)\n",
        "test_data['LotFrontage'] = test_data['LotFrontage'].fillna(lot_frontage_median)"
      ],
      "execution_count": 37,
      "outputs": []
    },
    {
      "cell_type": "code",
      "metadata": {
        "id": "vgdqrbcAaUY7",
        "colab_type": "code",
        "colab": {
          "base_uri": "https://localhost:8080/",
          "height": 34
        },
        "outputId": "e107d71f-944b-4429-8386-f50e8d38e488"
      },
      "source": [
        "train_data['LotFrontage'].isna().sum()"
      ],
      "execution_count": 38,
      "outputs": [
        {
          "output_type": "execute_result",
          "data": {
            "text/plain": [
              "0"
            ]
          },
          "metadata": {
            "tags": []
          },
          "execution_count": 38
        }
      ]
    },
    {
      "cell_type": "code",
      "metadata": {
        "id": "7pNtWDZrbjHU",
        "colab_type": "code",
        "colab": {
          "base_uri": "https://localhost:8080/",
          "height": 34
        },
        "outputId": "a2413669-85eb-4a3a-b7ce-2e7cbb18866c"
      },
      "source": [
        "test_data['LotFrontage'].isna().sum()"
      ],
      "execution_count": 39,
      "outputs": [
        {
          "output_type": "execute_result",
          "data": {
            "text/plain": [
              "0"
            ]
          },
          "metadata": {
            "tags": []
          },
          "execution_count": 39
        }
      ]
    },
    {
      "cell_type": "markdown",
      "metadata": {
        "id": "JCTWVe4KgBvI",
        "colab_type": "text"
      },
      "source": [
        "##### Check if everything was filled"
      ]
    },
    {
      "cell_type": "code",
      "metadata": {
        "id": "F41AbssZfwzI",
        "colab_type": "code",
        "colab": {
          "base_uri": "https://localhost:8080/",
          "height": 34
        },
        "outputId": "aebfaca6-6795-433f-e49e-5167d567d3d2"
      },
      "source": [
        "train_numeric_features_missing = [x for x in train_data[train_numeric_features] if train_data[x].isna().sum()]\n",
        "train_numeric_features_missing"
      ],
      "execution_count": 40,
      "outputs": [
        {
          "output_type": "execute_result",
          "data": {
            "text/plain": [
              "[]"
            ]
          },
          "metadata": {
            "tags": []
          },
          "execution_count": 40
        }
      ]
    },
    {
      "cell_type": "code",
      "metadata": {
        "id": "KipsoBPZf8dH",
        "colab_type": "code",
        "colab": {
          "base_uri": "https://localhost:8080/",
          "height": 34
        },
        "outputId": "a5905333-f783-4d97-baf6-1893bc94624b"
      },
      "source": [
        "test_numeric_features_missing = [x for x in test_data[test_numeric_features] if test_data[x].isna().sum()]\n",
        "test_numeric_features_missing"
      ],
      "execution_count": 41,
      "outputs": [
        {
          "output_type": "execute_result",
          "data": {
            "text/plain": [
              "[]"
            ]
          },
          "metadata": {
            "tags": []
          },
          "execution_count": 41
        }
      ]
    },
    {
      "cell_type": "markdown",
      "metadata": {
        "id": "zYj39dTTi5Gv",
        "colab_type": "text"
      },
      "source": [
        "#### Text data"
      ]
    },
    {
      "cell_type": "code",
      "metadata": {
        "id": "LgEH8X_Ui8oD",
        "colab_type": "code",
        "colab": {
          "base_uri": "https://localhost:8080/",
          "height": 221
        },
        "outputId": "cf6d0f9d-14dd-49fb-e103-034e148b9b59"
      },
      "source": [
        "train_text_features_missing = [x for x in train_data[train_text_features] if train_data[x].isna().sum()]\n",
        "train_text_features_missing"
      ],
      "execution_count": 42,
      "outputs": [
        {
          "output_type": "execute_result",
          "data": {
            "text/plain": [
              "['MasVnrType',\n",
              " 'BsmtQual',\n",
              " 'BsmtCond',\n",
              " 'BsmtExposure',\n",
              " 'BsmtFinType1',\n",
              " 'BsmtFinType2',\n",
              " 'Electrical',\n",
              " 'FireplaceQu',\n",
              " 'GarageType',\n",
              " 'GarageFinish',\n",
              " 'GarageQual',\n",
              " 'GarageCond']"
            ]
          },
          "metadata": {
            "tags": []
          },
          "execution_count": 42
        }
      ]
    },
    {
      "cell_type": "code",
      "metadata": {
        "id": "DOo0F2fZjB1c",
        "colab_type": "code",
        "colab": {
          "base_uri": "https://localhost:8080/",
          "height": 323
        },
        "outputId": "8c9cf533-cbe7-4ea1-ed88-f9defafddb0f"
      },
      "source": [
        "test_text_features_missing = [x for x in test_data[test_text_features] if test_data[x].isna().sum()]\n",
        "test_text_features_missing"
      ],
      "execution_count": 43,
      "outputs": [
        {
          "output_type": "execute_result",
          "data": {
            "text/plain": [
              "['MSZoning',\n",
              " 'Utilities',\n",
              " 'Exterior1st',\n",
              " 'Exterior2nd',\n",
              " 'MasVnrType',\n",
              " 'BsmtQual',\n",
              " 'BsmtCond',\n",
              " 'BsmtExposure',\n",
              " 'BsmtFinType1',\n",
              " 'BsmtFinType2',\n",
              " 'KitchenQual',\n",
              " 'Functional',\n",
              " 'FireplaceQu',\n",
              " 'GarageType',\n",
              " 'GarageFinish',\n",
              " 'GarageQual',\n",
              " 'GarageCond',\n",
              " 'SaleType']"
            ]
          },
          "metadata": {
            "tags": []
          },
          "execution_count": 43
        }
      ]
    },
    {
      "cell_type": "code",
      "metadata": {
        "id": "zBxeRU85kZZW",
        "colab_type": "code",
        "colab": {
          "base_uri": "https://localhost:8080/",
          "height": 340
        },
        "outputId": "dcbb3262-1b49-4ee5-b57f-71915906167e"
      },
      "source": [
        "text_feature_missing = set(train_text_features_missing + test_text_features_missing)\n",
        "text_feature_missing"
      ],
      "execution_count": 44,
      "outputs": [
        {
          "output_type": "execute_result",
          "data": {
            "text/plain": [
              "{'BsmtCond',\n",
              " 'BsmtExposure',\n",
              " 'BsmtFinType1',\n",
              " 'BsmtFinType2',\n",
              " 'BsmtQual',\n",
              " 'Electrical',\n",
              " 'Exterior1st',\n",
              " 'Exterior2nd',\n",
              " 'FireplaceQu',\n",
              " 'Functional',\n",
              " 'GarageCond',\n",
              " 'GarageFinish',\n",
              " 'GarageQual',\n",
              " 'GarageType',\n",
              " 'KitchenQual',\n",
              " 'MSZoning',\n",
              " 'MasVnrType',\n",
              " 'SaleType',\n",
              " 'Utilities'}"
            ]
          },
          "metadata": {
            "tags": []
          },
          "execution_count": 44
        }
      ]
    },
    {
      "cell_type": "markdown",
      "metadata": {
        "id": "r6zJjpdumzXr",
        "colab_type": "text"
      },
      "source": [
        "##### Oridnal missing features - filling with mode"
      ]
    },
    {
      "cell_type": "code",
      "metadata": {
        "id": "9MM2y0ZpnCZV",
        "colab_type": "code",
        "colab": {}
      },
      "source": [
        "features_ = ['Electrical', 'Exterior1st', 'Exterior2nd', 'Functional', 'KitchenQual', 'MSZoning', \n",
        "             'MasVnrType', 'SaleType', 'Utilities']\n",
        "\n",
        "for feature in features_:\n",
        "    mode = train_data[feature].mode()[0]\n",
        "    train_data[feature] = train_data[feature].fillna(mode)\n",
        "    test_data[feature] = test_data[feature].fillna(mode) "
      ],
      "execution_count": 45,
      "outputs": []
    },
    {
      "cell_type": "code",
      "metadata": {
        "id": "DqVErm8xnnOL",
        "colab_type": "code",
        "colab": {
          "base_uri": "https://localhost:8080/",
          "height": 187
        },
        "outputId": "e6c4f690-d33c-4a80-af38-2f7c5b9b3fb3"
      },
      "source": [
        "train_data[features_].isna().sum()"
      ],
      "execution_count": 46,
      "outputs": [
        {
          "output_type": "execute_result",
          "data": {
            "text/plain": [
              "Electrical     0\n",
              "Exterior1st    0\n",
              "Exterior2nd    0\n",
              "Functional     0\n",
              "KitchenQual    0\n",
              "MSZoning       0\n",
              "MasVnrType     0\n",
              "SaleType       0\n",
              "Utilities      0\n",
              "dtype: int64"
            ]
          },
          "metadata": {
            "tags": []
          },
          "execution_count": 46
        }
      ]
    },
    {
      "cell_type": "code",
      "metadata": {
        "id": "FQI9wfBGnqgR",
        "colab_type": "code",
        "colab": {
          "base_uri": "https://localhost:8080/",
          "height": 187
        },
        "outputId": "5cd6ddb0-1ce0-4156-89a9-fd47ed992c8a"
      },
      "source": [
        "test_data[features_].isna().sum()"
      ],
      "execution_count": 47,
      "outputs": [
        {
          "output_type": "execute_result",
          "data": {
            "text/plain": [
              "Electrical     0\n",
              "Exterior1st    0\n",
              "Exterior2nd    0\n",
              "Functional     0\n",
              "KitchenQual    0\n",
              "MSZoning       0\n",
              "MasVnrType     0\n",
              "SaleType       0\n",
              "Utilities      0\n",
              "dtype: int64"
            ]
          },
          "metadata": {
            "tags": []
          },
          "execution_count": 47
        }
      ]
    },
    {
      "cell_type": "markdown",
      "metadata": {
        "id": "j47GUC1ikzqX",
        "colab_type": "text"
      },
      "source": [
        "##### NaN == Lack of ... \n",
        " NaN should be equal to \"lack of ...\""
      ]
    },
    {
      "cell_type": "code",
      "metadata": {
        "id": "SJGbLtT7kkk3",
        "colab_type": "code",
        "colab": {}
      },
      "source": [
        "features_ = ['BsmtCond', 'BsmtExposure', 'BsmtFinType1', 'BsmtFinType2', 'BsmtQual', \n",
        "             'FireplaceQu', \n",
        "             'GarageCond', 'GarageFinish', 'GarageQual', 'GarageType']"
      ],
      "execution_count": 48,
      "outputs": []
    },
    {
      "cell_type": "markdown",
      "metadata": {
        "id": "l2kHtogPpjbR",
        "colab_type": "text"
      },
      "source": [
        "###### Fireplace"
      ]
    },
    {
      "cell_type": "code",
      "metadata": {
        "id": "OXbBOUtypuvM",
        "colab_type": "code",
        "colab": {
          "base_uri": "https://localhost:8080/",
          "height": 34
        },
        "outputId": "1207821f-e2d7-4daf-c560-3b2189c8bb9a"
      },
      "source": [
        "fireplaces_df = train_data[['Fireplaces', 'FireplaceQu']][train_data['FireplaceQu'].isna()]\n",
        "fireplaces_df['Fireplaces'].sum()"
      ],
      "execution_count": 49,
      "outputs": [
        {
          "output_type": "execute_result",
          "data": {
            "text/plain": [
              "0"
            ]
          },
          "metadata": {
            "tags": []
          },
          "execution_count": 49
        }
      ]
    },
    {
      "cell_type": "code",
      "metadata": {
        "id": "KrY1eFABqLOQ",
        "colab_type": "code",
        "colab": {
          "base_uri": "https://localhost:8080/",
          "height": 34
        },
        "outputId": "0631270b-2819-40ed-eee0-1cd4f6ab5ed1"
      },
      "source": [
        "fireplaces_df = test_data[['Fireplaces', 'FireplaceQu']][test_data['FireplaceQu'].isna()]\n",
        "fireplaces_df['Fireplaces'].sum()"
      ],
      "execution_count": 50,
      "outputs": [
        {
          "output_type": "execute_result",
          "data": {
            "text/plain": [
              "0"
            ]
          },
          "metadata": {
            "tags": []
          },
          "execution_count": 50
        }
      ]
    },
    {
      "cell_type": "code",
      "metadata": {
        "id": "RZ0T0O5oqxEF",
        "colab_type": "code",
        "colab": {}
      },
      "source": [
        "train_data['FireplaceQu'] = train_data['FireplaceQu'].fillna('NoFireplace')\n",
        "test_data['FireplaceQu'] = test_data['FireplaceQu'].fillna('NoFireplace')"
      ],
      "execution_count": 51,
      "outputs": []
    },
    {
      "cell_type": "code",
      "metadata": {
        "id": "WQ9aPiWBrFAK",
        "colab_type": "code",
        "colab": {
          "base_uri": "https://localhost:8080/",
          "height": 34
        },
        "outputId": "8ce8f023-7b31-4148-a945-9b9fd4a0b595"
      },
      "source": [
        "train_data['FireplaceQu'].isna().sum()"
      ],
      "execution_count": 52,
      "outputs": [
        {
          "output_type": "execute_result",
          "data": {
            "text/plain": [
              "0"
            ]
          },
          "metadata": {
            "tags": []
          },
          "execution_count": 52
        }
      ]
    },
    {
      "cell_type": "code",
      "metadata": {
        "id": "rSDFbZ24rKbk",
        "colab_type": "code",
        "colab": {
          "base_uri": "https://localhost:8080/",
          "height": 34
        },
        "outputId": "d0f10603-26d0-4e4b-fde7-4151032e344f"
      },
      "source": [
        "test_data['FireplaceQu'].isna().sum()"
      ],
      "execution_count": 53,
      "outputs": [
        {
          "output_type": "execute_result",
          "data": {
            "text/plain": [
              "0"
            ]
          },
          "metadata": {
            "tags": []
          },
          "execution_count": 53
        }
      ]
    },
    {
      "cell_type": "markdown",
      "metadata": {
        "id": "EaCbPXQDrQR4",
        "colab_type": "text"
      },
      "source": [
        "###### Basement"
      ]
    },
    {
      "cell_type": "code",
      "metadata": {
        "id": "PX6PLw-2rxr-",
        "colab_type": "code",
        "colab": {
          "base_uri": "https://localhost:8080/",
          "height": 204
        },
        "outputId": "72ce4bb7-1d3e-42bf-90c0-f2a4153c02d5"
      },
      "source": [
        "bsmt_features = [x for x in train_data.columns if 'Bsmt' in x]\n",
        "bsmt_features"
      ],
      "execution_count": 54,
      "outputs": [
        {
          "output_type": "execute_result",
          "data": {
            "text/plain": [
              "['BsmtQual',\n",
              " 'BsmtCond',\n",
              " 'BsmtExposure',\n",
              " 'BsmtFinType1',\n",
              " 'BsmtFinSF1',\n",
              " 'BsmtFinType2',\n",
              " 'BsmtFinSF2',\n",
              " 'BsmtUnfSF',\n",
              " 'TotalBsmtSF',\n",
              " 'BsmtFullBath',\n",
              " 'BsmtHalfBath']"
            ]
          },
          "metadata": {
            "tags": []
          },
          "execution_count": 54
        }
      ]
    },
    {
      "cell_type": "code",
      "metadata": {
        "id": "tGtpbnmYs4Qz",
        "colab_type": "code",
        "colab": {
          "base_uri": "https://localhost:8080/",
          "height": 34
        },
        "outputId": "57940521-6922-4235-cb8c-d5a35b4649bd"
      },
      "source": [
        "bsmt_missing_features = ['BsmtCond', 'BsmtExposure', 'BsmtFinType1', 'BsmtFinType2', 'BsmtQual']\n",
        "bsmt_missing_features"
      ],
      "execution_count": 55,
      "outputs": [
        {
          "output_type": "execute_result",
          "data": {
            "text/plain": [
              "['BsmtCond', 'BsmtExposure', 'BsmtFinType1', 'BsmtFinType2', 'BsmtQual']"
            ]
          },
          "metadata": {
            "tags": []
          },
          "execution_count": 55
        }
      ]
    },
    {
      "cell_type": "code",
      "metadata": {
        "id": "deD2ehFFmckm",
        "colab_type": "code",
        "colab": {}
      },
      "source": [
        "def fill_values(df, features, boundry_feature):\n",
        "    df = df.copy()\n",
        "    for feature in features:\n",
        "        for idx, row in df[df[feature].isna()].iterrows():\n",
        "            if row[boundry_feature] > 0:\n",
        "                filling_value = df[feature].mode()[0]\n",
        "            else:\n",
        "                filling_value = 'NoBasement'\n",
        "            df.loc[idx, feature] = filling_value\n",
        "\n",
        "    return df\n",
        "\n",
        "train_data = fill_values(train_data, bsmt_missing_features, 'TotalBsmtSF')\n",
        "test_data = fill_values(test_data, bsmt_missing_features, 'TotalBsmtSF')"
      ],
      "execution_count": 56,
      "outputs": []
    },
    {
      "cell_type": "code",
      "metadata": {
        "id": "VimKQ5neoeYw",
        "colab_type": "code",
        "colab": {
          "base_uri": "https://localhost:8080/",
          "height": 100
        },
        "outputId": "826b906f-0a03-400f-dae0-f138bc88e35b"
      },
      "source": [
        "train_data[bsmt_features][train_data['BsmtCond'].isna()]"
      ],
      "execution_count": 57,
      "outputs": [
        {
          "output_type": "execute_result",
          "data": {
            "text/html": [
              "<div>\n",
              "<style scoped>\n",
              "    .dataframe tbody tr th:only-of-type {\n",
              "        vertical-align: middle;\n",
              "    }\n",
              "\n",
              "    .dataframe tbody tr th {\n",
              "        vertical-align: top;\n",
              "    }\n",
              "\n",
              "    .dataframe thead th {\n",
              "        text-align: right;\n",
              "    }\n",
              "</style>\n",
              "<table border=\"1\" class=\"dataframe\">\n",
              "  <thead>\n",
              "    <tr style=\"text-align: right;\">\n",
              "      <th></th>\n",
              "      <th>BsmtQual</th>\n",
              "      <th>BsmtCond</th>\n",
              "      <th>BsmtExposure</th>\n",
              "      <th>BsmtFinType1</th>\n",
              "      <th>BsmtFinSF1</th>\n",
              "      <th>BsmtFinType2</th>\n",
              "      <th>BsmtFinSF2</th>\n",
              "      <th>BsmtUnfSF</th>\n",
              "      <th>TotalBsmtSF</th>\n",
              "      <th>BsmtFullBath</th>\n",
              "      <th>BsmtHalfBath</th>\n",
              "    </tr>\n",
              "    <tr>\n",
              "      <th>Id</th>\n",
              "      <th></th>\n",
              "      <th></th>\n",
              "      <th></th>\n",
              "      <th></th>\n",
              "      <th></th>\n",
              "      <th></th>\n",
              "      <th></th>\n",
              "      <th></th>\n",
              "      <th></th>\n",
              "      <th></th>\n",
              "      <th></th>\n",
              "    </tr>\n",
              "  </thead>\n",
              "  <tbody>\n",
              "  </tbody>\n",
              "</table>\n",
              "</div>"
            ],
            "text/plain": [
              "Empty DataFrame\n",
              "Columns: [BsmtQual, BsmtCond, BsmtExposure, BsmtFinType1, BsmtFinSF1, BsmtFinType2, BsmtFinSF2, BsmtUnfSF, TotalBsmtSF, BsmtFullBath, BsmtHalfBath]\n",
              "Index: []"
            ]
          },
          "metadata": {
            "tags": []
          },
          "execution_count": 57
        }
      ]
    },
    {
      "cell_type": "code",
      "metadata": {
        "id": "qTGaOvJsyzCr",
        "colab_type": "code",
        "colab": {
          "base_uri": "https://localhost:8080/",
          "height": 100
        },
        "outputId": "7daf2d69-5b09-4382-a5d2-9f14f5e928eb"
      },
      "source": [
        "test_data[bsmt_features][test_data['BsmtFinType1'].isna()]"
      ],
      "execution_count": 58,
      "outputs": [
        {
          "output_type": "execute_result",
          "data": {
            "text/html": [
              "<div>\n",
              "<style scoped>\n",
              "    .dataframe tbody tr th:only-of-type {\n",
              "        vertical-align: middle;\n",
              "    }\n",
              "\n",
              "    .dataframe tbody tr th {\n",
              "        vertical-align: top;\n",
              "    }\n",
              "\n",
              "    .dataframe thead th {\n",
              "        text-align: right;\n",
              "    }\n",
              "</style>\n",
              "<table border=\"1\" class=\"dataframe\">\n",
              "  <thead>\n",
              "    <tr style=\"text-align: right;\">\n",
              "      <th></th>\n",
              "      <th>BsmtQual</th>\n",
              "      <th>BsmtCond</th>\n",
              "      <th>BsmtExposure</th>\n",
              "      <th>BsmtFinType1</th>\n",
              "      <th>BsmtFinSF1</th>\n",
              "      <th>BsmtFinType2</th>\n",
              "      <th>BsmtFinSF2</th>\n",
              "      <th>BsmtUnfSF</th>\n",
              "      <th>TotalBsmtSF</th>\n",
              "      <th>BsmtFullBath</th>\n",
              "      <th>BsmtHalfBath</th>\n",
              "    </tr>\n",
              "    <tr>\n",
              "      <th>Id</th>\n",
              "      <th></th>\n",
              "      <th></th>\n",
              "      <th></th>\n",
              "      <th></th>\n",
              "      <th></th>\n",
              "      <th></th>\n",
              "      <th></th>\n",
              "      <th></th>\n",
              "      <th></th>\n",
              "      <th></th>\n",
              "      <th></th>\n",
              "    </tr>\n",
              "  </thead>\n",
              "  <tbody>\n",
              "  </tbody>\n",
              "</table>\n",
              "</div>"
            ],
            "text/plain": [
              "Empty DataFrame\n",
              "Columns: [BsmtQual, BsmtCond, BsmtExposure, BsmtFinType1, BsmtFinSF1, BsmtFinType2, BsmtFinSF2, BsmtUnfSF, TotalBsmtSF, BsmtFullBath, BsmtHalfBath]\n",
              "Index: []"
            ]
          },
          "metadata": {
            "tags": []
          },
          "execution_count": 58
        }
      ]
    },
    {
      "cell_type": "markdown",
      "metadata": {
        "id": "0yiTNSRMrZSp",
        "colab_type": "text"
      },
      "source": [
        "###### Garage\n"
      ]
    },
    {
      "cell_type": "code",
      "metadata": {
        "id": "NbR_Pw1Ry7r3",
        "colab_type": "code",
        "colab": {
          "base_uri": "https://localhost:8080/",
          "height": 136
        },
        "outputId": "cf8f2890-2b73-4eb2-9e01-bf66c2331735"
      },
      "source": [
        "garage_features = [x for x in train_data.columns if 'Garage' in x]\n",
        "garage_features"
      ],
      "execution_count": 59,
      "outputs": [
        {
          "output_type": "execute_result",
          "data": {
            "text/plain": [
              "['GarageType',\n",
              " 'GarageYrBlt',\n",
              " 'GarageFinish',\n",
              " 'GarageCars',\n",
              " 'GarageArea',\n",
              " 'GarageQual',\n",
              " 'GarageCond']"
            ]
          },
          "metadata": {
            "tags": []
          },
          "execution_count": 59
        }
      ]
    },
    {
      "cell_type": "code",
      "metadata": {
        "id": "ekrXygLGzA4W",
        "colab_type": "code",
        "colab": {
          "base_uri": "https://localhost:8080/",
          "height": 34
        },
        "outputId": "c036af21-bffb-4461-93e9-a945a2b29cf8"
      },
      "source": [
        "garage_missing_features = ['GarageCond', 'GarageFinish', 'GarageQual', 'GarageType']\n",
        "garage_missing_features"
      ],
      "execution_count": 60,
      "outputs": [
        {
          "output_type": "execute_result",
          "data": {
            "text/plain": [
              "['GarageCond', 'GarageFinish', 'GarageQual', 'GarageType']"
            ]
          },
          "metadata": {
            "tags": []
          },
          "execution_count": 60
        }
      ]
    },
    {
      "cell_type": "code",
      "metadata": {
        "id": "44IDmNXhzvHH",
        "colab_type": "code",
        "colab": {}
      },
      "source": [
        "train_data = fill_values(train_data, garage_missing_features, 'GarageArea')\n",
        "test_data = fill_values(test_data, garage_missing_features, 'GarageArea')"
      ],
      "execution_count": 61,
      "outputs": []
    },
    {
      "cell_type": "code",
      "metadata": {
        "id": "iwzOMOAOzLdP",
        "colab_type": "code",
        "colab": {
          "base_uri": "https://localhost:8080/",
          "height": 80
        },
        "outputId": "e9320768-1cd2-4f2b-89f1-db26e0dd8189"
      },
      "source": [
        "train_data[garage_features][train_data['GarageQual'].isna()]"
      ],
      "execution_count": 62,
      "outputs": [
        {
          "output_type": "execute_result",
          "data": {
            "text/html": [
              "<div>\n",
              "<style scoped>\n",
              "    .dataframe tbody tr th:only-of-type {\n",
              "        vertical-align: middle;\n",
              "    }\n",
              "\n",
              "    .dataframe tbody tr th {\n",
              "        vertical-align: top;\n",
              "    }\n",
              "\n",
              "    .dataframe thead th {\n",
              "        text-align: right;\n",
              "    }\n",
              "</style>\n",
              "<table border=\"1\" class=\"dataframe\">\n",
              "  <thead>\n",
              "    <tr style=\"text-align: right;\">\n",
              "      <th></th>\n",
              "      <th>GarageType</th>\n",
              "      <th>GarageYrBlt</th>\n",
              "      <th>GarageFinish</th>\n",
              "      <th>GarageCars</th>\n",
              "      <th>GarageArea</th>\n",
              "      <th>GarageQual</th>\n",
              "      <th>GarageCond</th>\n",
              "    </tr>\n",
              "    <tr>\n",
              "      <th>Id</th>\n",
              "      <th></th>\n",
              "      <th></th>\n",
              "      <th></th>\n",
              "      <th></th>\n",
              "      <th></th>\n",
              "      <th></th>\n",
              "      <th></th>\n",
              "    </tr>\n",
              "  </thead>\n",
              "  <tbody>\n",
              "  </tbody>\n",
              "</table>\n",
              "</div>"
            ],
            "text/plain": [
              "Empty DataFrame\n",
              "Columns: [GarageType, GarageYrBlt, GarageFinish, GarageCars, GarageArea, GarageQual, GarageCond]\n",
              "Index: []"
            ]
          },
          "metadata": {
            "tags": []
          },
          "execution_count": 62
        }
      ]
    },
    {
      "cell_type": "code",
      "metadata": {
        "id": "pV3ptieJzRQG",
        "colab_type": "code",
        "colab": {
          "base_uri": "https://localhost:8080/",
          "height": 80
        },
        "outputId": "2822e723-c48e-42f8-ea60-92d9249a110e"
      },
      "source": [
        "test_data[garage_features][test_data['GarageQual'].isna()]"
      ],
      "execution_count": 63,
      "outputs": [
        {
          "output_type": "execute_result",
          "data": {
            "text/html": [
              "<div>\n",
              "<style scoped>\n",
              "    .dataframe tbody tr th:only-of-type {\n",
              "        vertical-align: middle;\n",
              "    }\n",
              "\n",
              "    .dataframe tbody tr th {\n",
              "        vertical-align: top;\n",
              "    }\n",
              "\n",
              "    .dataframe thead th {\n",
              "        text-align: right;\n",
              "    }\n",
              "</style>\n",
              "<table border=\"1\" class=\"dataframe\">\n",
              "  <thead>\n",
              "    <tr style=\"text-align: right;\">\n",
              "      <th></th>\n",
              "      <th>GarageType</th>\n",
              "      <th>GarageYrBlt</th>\n",
              "      <th>GarageFinish</th>\n",
              "      <th>GarageCars</th>\n",
              "      <th>GarageArea</th>\n",
              "      <th>GarageQual</th>\n",
              "      <th>GarageCond</th>\n",
              "    </tr>\n",
              "    <tr>\n",
              "      <th>Id</th>\n",
              "      <th></th>\n",
              "      <th></th>\n",
              "      <th></th>\n",
              "      <th></th>\n",
              "      <th></th>\n",
              "      <th></th>\n",
              "      <th></th>\n",
              "    </tr>\n",
              "  </thead>\n",
              "  <tbody>\n",
              "  </tbody>\n",
              "</table>\n",
              "</div>"
            ],
            "text/plain": [
              "Empty DataFrame\n",
              "Columns: [GarageType, GarageYrBlt, GarageFinish, GarageCars, GarageArea, GarageQual, GarageCond]\n",
              "Index: []"
            ]
          },
          "metadata": {
            "tags": []
          },
          "execution_count": 63
        }
      ]
    },
    {
      "cell_type": "markdown",
      "metadata": {
        "id": "RGnJHCMl0N5H",
        "colab_type": "text"
      },
      "source": [
        "##### Check if everything was filled"
      ]
    },
    {
      "cell_type": "code",
      "metadata": {
        "id": "5Yj9-aSG0Aaw",
        "colab_type": "code",
        "colab": {
          "base_uri": "https://localhost:8080/",
          "height": 34
        },
        "outputId": "64272d1a-7367-4eae-901f-0dae57ad9db0"
      },
      "source": [
        "train_text_features_missing = [x for x in train_data[train_text_features] if train_data[x].isna().sum()]\n",
        "train_text_features_missing"
      ],
      "execution_count": 64,
      "outputs": [
        {
          "output_type": "execute_result",
          "data": {
            "text/plain": [
              "[]"
            ]
          },
          "metadata": {
            "tags": []
          },
          "execution_count": 64
        }
      ]
    },
    {
      "cell_type": "code",
      "metadata": {
        "id": "34cBVBv40UUL",
        "colab_type": "code",
        "colab": {
          "base_uri": "https://localhost:8080/",
          "height": 34
        },
        "outputId": "da3eb126-e84e-4315-b0b1-9afae2031f8f"
      },
      "source": [
        "test_text_features_missing = [x for x in test_data[test_text_features] if test_data[x].isna().sum()]\n",
        "test_text_features_missing"
      ],
      "execution_count": 65,
      "outputs": [
        {
          "output_type": "execute_result",
          "data": {
            "text/plain": [
              "[]"
            ]
          },
          "metadata": {
            "tags": []
          },
          "execution_count": 65
        }
      ]
    },
    {
      "cell_type": "code",
      "metadata": {
        "id": "32D7VFfK0WW7",
        "colab_type": "code",
        "colab": {}
      },
      "source": [
        ""
      ],
      "execution_count": 65,
      "outputs": []
    }
  ]
}