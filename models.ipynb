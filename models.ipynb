{
  "nbformat": 4,
  "nbformat_minor": 0,
  "metadata": {
    "colab": {
      "name": "models.ipynb",
      "provenance": [],
      "mount_file_id": "19bljAs-DMnvErCYTWPfESrlTFR4X06ka",
      "authorship_tag": "ABX9TyN+VMlu0Sk8laCo19GMRuZz",
      "include_colab_link": true
    },
    "kernelspec": {
      "name": "python3",
      "display_name": "Python 3"
    }
  },
  "cells": [
    {
      "cell_type": "markdown",
      "metadata": {
        "id": "view-in-github",
        "colab_type": "text"
      },
      "source": [
        "<a href=\"https://colab.research.google.com/github/mzignis/advance_house_pricing/blob/master/models.ipynb\" target=\"_parent\"><img src=\"https://colab.research.google.com/assets/colab-badge.svg\" alt=\"Open In Colab\"/></a>"
      ]
    },
    {
      "cell_type": "code",
      "metadata": {
        "id": "4EX7eL7_B_68",
        "colab_type": "code",
        "colab": {
          "base_uri": "https://localhost:8080/",
          "height": 34
        },
        "outputId": "1a789a52-0a13-4200-b992-ddf7210a322d"
      },
      "source": [
        "HOME = '/content/drive/My Drive/ml_competition/advance_house_pricing'\n",
        "%cd $HOME"
      ],
      "execution_count": 1,
      "outputs": [
        {
          "output_type": "stream",
          "text": [
            "/content/drive/My Drive/ml_competition/advance_house_pricing\n"
          ],
          "name": "stdout"
        }
      ]
    },
    {
      "cell_type": "code",
      "metadata": {
        "id": "y-FtyJa1B4Bd",
        "colab_type": "code",
        "colab": {}
      },
      "source": [
        "import os\n",
        "\n",
        "import matplotlib.pyplot as plt\n",
        "import numpy as np\n",
        "import pandas as pd\n",
        "import seaborn as sns\n",
        "\n",
        "from xgboost import XGBRegressor\n",
        "from sklearn.linear_model import ElasticNet, Lasso, BayesianRidge, LassoLarsIC, LinearRegression\n",
        "from sklearn.ensemble import RandomForestRegressor, GradientBoostingRegressor, StackingRegressor, VotingRegressor\n",
        "from sklearn.kernel_ridge import KernelRidge\n",
        "from sklearn.pipeline import make_pipeline\n",
        "from sklearn.preprocessing import RobustScaler\n",
        "from sklearn.base import BaseEstimator, TransformerMixin, RegressorMixin, clone\n",
        "from sklearn.model_selection import KFold, cross_val_score, train_test_split, cross_validate\n",
        "from sklearn.metrics import mean_squared_error\n",
        "import xgboost as xgb\n",
        "import lightgbm as lgb\n",
        "\n",
        "from sklearn.model_selection import train_test_split\n",
        "from sklearn.metrics import r2_score, mean_squared_log_error\n",
        "\n",
        "import warnings\n",
        "\n",
        "warnings.filterwarnings('ignore')\n",
        "\n",
        "sns.set()"
      ],
      "execution_count": 95,
      "outputs": []
    },
    {
      "cell_type": "code",
      "metadata": {
        "id": "DPxtYrXICIfw",
        "colab_type": "code",
        "colab": {}
      },
      "source": [
        "train_data = pd.read_csv(os.path.join(HOME, 'data', 'preprocessed_train.csv'), index_col=0)\n",
        "test_data = pd.read_csv(os.path.join(HOME, 'data', 'preprocessed_test.csv'), index_col=0)"
      ],
      "execution_count": 122,
      "outputs": []
    },
    {
      "cell_type": "code",
      "metadata": {
        "id": "25dUQyS4IyT-",
        "colab_type": "code",
        "colab": {}
      },
      "source": [
        "train_data.fillna(0, inplace=True)\n",
        "test_data.fillna(0, inplace=True)"
      ],
      "execution_count": 4,
      "outputs": []
    },
    {
      "cell_type": "code",
      "metadata": {
        "id": "9fRQx7UiCbC5",
        "colab_type": "code",
        "colab": {}
      },
      "source": [
        "x, y = train_data.drop(columns=['SalePrice']).values, train_data['SalePrice'].values"
      ],
      "execution_count": 5,
      "outputs": []
    },
    {
      "cell_type": "code",
      "metadata": {
        "id": "CwZOVwnUCoUj",
        "colab_type": "code",
        "colab": {
          "base_uri": "https://localhost:8080/",
          "height": 34
        },
        "outputId": "bc916ae8-2958-4c59-d5fd-b1b5bcca16aa"
      },
      "source": [
        "x.shape, y.shape"
      ],
      "execution_count": 6,
      "outputs": [
        {
          "output_type": "execute_result",
          "data": {
            "text/plain": [
              "((1175, 230), (1175,))"
            ]
          },
          "metadata": {
            "tags": []
          },
          "execution_count": 6
        }
      ]
    },
    {
      "cell_type": "code",
      "metadata": {
        "id": "XptwtKHrCrwK",
        "colab_type": "code",
        "colab": {}
      },
      "source": [
        "n_folds = 5\n",
        "\n",
        "def rmsle_cv(model):\n",
        "    model.fit(x, y)\n",
        "    scores = np.sqrt(-cross_validate(model, x, y, cv=5, scoring='neg_mean_squared_log_error')['test_score'])\n",
        "    return np.mean(scores), np.std(scores)"
      ],
      "execution_count": 86,
      "outputs": []
    },
    {
      "cell_type": "code",
      "metadata": {
        "id": "R1DkEVHpC9Wd",
        "colab_type": "code",
        "colab": {
          "base_uri": "https://localhost:8080/",
          "height": 34
        },
        "outputId": "4881fb2a-a3c4-4333-b5f4-97c4258fffac"
      },
      "source": [
        "lasso = Lasso(alpha =0.0005, random_state=1)\n",
        "rmsle_cv(lasso)"
      ],
      "execution_count": 74,
      "outputs": [
        {
          "output_type": "execute_result",
          "data": {
            "text/plain": [
              "(0.13639326900327547, 0.014125677290640943)"
            ]
          },
          "metadata": {
            "tags": []
          },
          "execution_count": 74
        }
      ]
    },
    {
      "cell_type": "code",
      "metadata": {
        "id": "KA9Y5ucPNcmF",
        "colab_type": "code",
        "colab": {
          "base_uri": "https://localhost:8080/",
          "height": 34
        },
        "outputId": "ce435ea6-9ac9-4f39-9723-277b44926576"
      },
      "source": [
        "e_net = make_pipeline(RobustScaler(), ElasticNet())\n",
        "rmsle_cv(e_net)"
      ],
      "execution_count": 75,
      "outputs": [
        {
          "output_type": "execute_result",
          "data": {
            "text/plain": [
              "(0.13360767583805194, 0.0066240542359323334)"
            ]
          },
          "metadata": {
            "tags": []
          },
          "execution_count": 75
        }
      ]
    },
    {
      "cell_type": "code",
      "metadata": {
        "id": "DTqbB05NN0U3",
        "colab_type": "code",
        "colab": {
          "base_uri": "https://localhost:8080/",
          "height": 34
        },
        "outputId": "74073d1c-d881-4a24-8b38-292ebd801046"
      },
      "source": [
        "lin = LinearRegression()\n",
        "rmsle_cv(lin)"
      ],
      "execution_count": 90,
      "outputs": [
        {
          "output_type": "execute_result",
          "data": {
            "text/plain": [
              "(0.1366942405993384, 0.014044236102700313)"
            ]
          },
          "metadata": {
            "tags": []
          },
          "execution_count": 90
        }
      ]
    },
    {
      "cell_type": "code",
      "metadata": {
        "id": "6MCJwi85N3Ln",
        "colab_type": "code",
        "colab": {
          "base_uri": "https://localhost:8080/",
          "height": 34
        },
        "outputId": "b3cafcb2-8106-4007-9826-a2741e10ba1c"
      },
      "source": [
        "g_boost = GradientBoostingRegressor(n_estimators=3000, learning_rate=0.05,\n",
        "                                   max_depth=4, max_features='sqrt',\n",
        "                                   min_samples_leaf=15, min_samples_split=10, \n",
        "                                   loss='huber', random_state =5)\n",
        "rmsle_cv(g_boost)"
      ],
      "execution_count": 78,
      "outputs": [
        {
          "output_type": "execute_result",
          "data": {
            "text/plain": [
              "(0.11680205179673901, 0.007825203040739909)"
            ]
          },
          "metadata": {
            "tags": []
          },
          "execution_count": 78
        }
      ]
    },
    {
      "cell_type": "code",
      "metadata": {
        "id": "YeYOo4XrN7aA",
        "colab_type": "code",
        "colab": {
          "base_uri": "https://localhost:8080/",
          "height": 34
        },
        "outputId": "00febbff-145b-45b9-c0b9-bbb154a37f09"
      },
      "source": [
        "model_xgb = xgb.XGBRegressor(colsample_bytree=0.4603, gamma=0.0468, \n",
        "                             learning_rate=0.05, max_depth=3, \n",
        "                             min_child_weight=1.7817, n_estimators=2200,\n",
        "                             reg_alpha=0.4640, reg_lambda=0.8571,\n",
        "                             subsample=0.5213, silent=1,\n",
        "                             random_state =7, nthread = -1)\n",
        "\n",
        "rmsle_cv(model_xgb)"
      ],
      "execution_count": 85,
      "outputs": [
        {
          "output_type": "execute_result",
          "data": {
            "text/plain": [
              "(0.11348432915522277, 0.00956858750546073)"
            ]
          },
          "metadata": {
            "tags": []
          },
          "execution_count": 85
        }
      ]
    },
    {
      "cell_type": "code",
      "metadata": {
        "id": "hBTUGNLRN-1g",
        "colab_type": "code",
        "colab": {
          "base_uri": "https://localhost:8080/",
          "height": 34
        },
        "outputId": "886b255e-d6e9-4d54-a8d1-2c56387873a0"
      },
      "source": [
        "model_lgb = lgb.LGBMRegressor(objective='regression',num_leaves=5,\n",
        "                              learning_rate=0.05, n_estimators=720,\n",
        "                              max_bin = 55, bagging_fraction = 0.8,\n",
        "                              bagging_freq = 5, feature_fraction = 0.2319,\n",
        "                              feature_fraction_seed=9, bagging_seed=9,\n",
        "                              min_data_in_leaf =6, min_sum_hessian_in_leaf = 11)\n",
        "\n",
        "rmsle_cv(model_lgb)"
      ],
      "execution_count": 87,
      "outputs": [
        {
          "output_type": "execute_result",
          "data": {
            "text/plain": [
              "(0.1160712632376445, 0.009293075651214958)"
            ]
          },
          "metadata": {
            "tags": []
          },
          "execution_count": 87
        }
      ]
    },
    {
      "cell_type": "code",
      "metadata": {
        "id": "oTO16U1aQTF8",
        "colab_type": "code",
        "colab": {
          "base_uri": "https://localhost:8080/",
          "height": 34
        },
        "outputId": "dc22c4aa-759f-41a9-c7f0-1d1418e893a9"
      },
      "source": [
        "estimators = [\n",
        "    ('Linear', lin),\n",
        "    ('ElasticNet', e_net), \n",
        "    # ('Lasso', lasso), \n",
        "    ('GradientBoost', g_boost),\n",
        "]\n",
        "\n",
        "stack_model = StackingRegressor(estimators=estimators, final_estimator=lasso)\n",
        "rmsle_cv(stack_model)"
      ],
      "execution_count": 98,
      "outputs": [
        {
          "output_type": "execute_result",
          "data": {
            "text/plain": [
              "(0.11064409833934337, 0.006202875386233558)"
            ]
          },
          "metadata": {
            "tags": []
          },
          "execution_count": 98
        }
      ]
    },
    {
      "cell_type": "code",
      "metadata": {
        "id": "G723bG30UygK",
        "colab_type": "code",
        "colab": {
          "base_uri": "https://localhost:8080/",
          "height": 34
        },
        "outputId": "9a21348a-888f-4fed-91b4-de867b71a27d"
      },
      "source": [
        "estimators = [\n",
        "    ('Stacking', stack_model),\n",
        "    # ('XGBRegressor', model_xgb), \n",
        "    ('LGBMRegressor', model_lgb),\n",
        "]\n",
        "\n",
        "voting_model = VotingRegressor(estimators=estimators, weights=[0.50, 0.50])\n",
        "rmsle_cv(model)"
      ],
      "execution_count": 143,
      "outputs": [
        {
          "output_type": "execute_result",
          "data": {
            "text/plain": [
              "(0.11348432915522277, 0.00956858750546073)"
            ]
          },
          "metadata": {
            "tags": []
          },
          "execution_count": 143
        }
      ]
    },
    {
      "cell_type": "code",
      "metadata": {
        "id": "V2S7dDCXVX73",
        "colab_type": "code",
        "colab": {}
      },
      "source": [
        "def rmsle(y, y_pred):\n",
        "    return np.sqrt(mean_squared_log_error(y, y_pred))"
      ],
      "execution_count": 110,
      "outputs": []
    },
    {
      "cell_type": "code",
      "metadata": {
        "id": "Eak72wU1W7nn",
        "colab_type": "code",
        "colab": {
          "base_uri": "https://localhost:8080/",
          "height": 34
        },
        "outputId": "bd0ee407-a65b-49bd-dc79-29ad1b46ade4"
      },
      "source": [
        "stack_model.fit(x, y)\n",
        "stacked_train_pred = stack_model.predict(x)\n",
        "# stacked_pred = np.expm1(stack_model.predict(test.values))\n",
        "print(rmsle(y, stacked_train_pred))"
      ],
      "execution_count": 111,
      "outputs": [
        {
          "output_type": "stream",
          "text": [
            "0.056558399014851775\n"
          ],
          "name": "stdout"
        }
      ]
    },
    {
      "cell_type": "code",
      "metadata": {
        "id": "pLv-G9jKXGns",
        "colab_type": "code",
        "colab": {
          "base_uri": "https://localhost:8080/",
          "height": 34
        },
        "outputId": "1e9708d0-0392-460e-9646-a81e9f013c89"
      },
      "source": [
        "model_xgb.fit(x, y)\n",
        "xgb_train_pred = model_xgb.predict(x)\n",
        "# xgb_pred = np.expm1(model_xgb.predict(test))\n",
        "print(rmsle(y, xgb_train_pred))"
      ],
      "execution_count": 112,
      "outputs": [
        {
          "output_type": "stream",
          "text": [
            "0.01955277474239371\n"
          ],
          "name": "stdout"
        }
      ]
    },
    {
      "cell_type": "code",
      "metadata": {
        "id": "zF5YjEjMXAqI",
        "colab_type": "code",
        "colab": {
          "base_uri": "https://localhost:8080/",
          "height": 34
        },
        "outputId": "c7cff1d7-87a7-4847-b91e-cf05e84a1a45"
      },
      "source": [
        "model_lgb.fit(x, y)\n",
        "lgb_train_pred = model_lgb.predict(x)\n",
        "# lgb_pred = np.expm1(model_lgb.predict(test.values))\n",
        "print(rmsle(y, lgb_train_pred))"
      ],
      "execution_count": 113,
      "outputs": [
        {
          "output_type": "stream",
          "text": [
            "0.07385717794609563\n"
          ],
          "name": "stdout"
        }
      ]
    },
    {
      "cell_type": "code",
      "metadata": {
        "id": "FP6TWBXoXClw",
        "colab_type": "code",
        "colab": {}
      },
      "source": [
        "model_lgb.fit(x, y)\n",
        "model_lgb_pred = model_lgb.predict(x)\n",
        "# voting_pred = np.expm1(model_voting.predict(test.values))"
      ],
      "execution_count": 155,
      "outputs": []
    },
    {
      "cell_type": "code",
      "metadata": {
        "id": "tZbnYiSugG4j",
        "colab_type": "code",
        "colab": {
          "base_uri": "https://localhost:8080/",
          "height": 34
        },
        "outputId": "2145abc5-91a6-4b4b-9b45-2323d07258ab"
      },
      "source": [
        "print(rmsle(y, model_lgb_pred))"
      ],
      "execution_count": 156,
      "outputs": [
        {
          "output_type": "stream",
          "text": [
            "0.07385717794609563\n"
          ],
          "name": "stdout"
        }
      ]
    },
    {
      "cell_type": "code",
      "metadata": {
        "id": "2G1qomXuY8qH",
        "colab_type": "code",
        "colab": {
          "base_uri": "https://localhost:8080/",
          "height": 51
        },
        "outputId": "265f314e-5ab8-4eb2-9965-c9138776b767"
      },
      "source": [
        "pred = stack_model.predict(test_data.values)\n",
        "pred"
      ],
      "execution_count": 157,
      "outputs": [
        {
          "output_type": "execute_result",
          "data": {
            "text/plain": [
              "array([120234.11023907, 155995.81170457, 187059.73688024, ...,\n",
              "       151375.15137956, 114513.04291155, 203267.51400486])"
            ]
          },
          "metadata": {
            "tags": []
          },
          "execution_count": 157
        }
      ]
    },
    {
      "cell_type": "code",
      "metadata": {
        "id": "JVj6zulda3SL",
        "colab_type": "code",
        "colab": {}
      },
      "source": [
        "sub = pd.DataFrame()\n",
        "sub['Id'] = test_data.index\n",
        "sub['SalePrice'] = pred\n",
        "sub.to_csv('submission.csv', index=False)"
      ],
      "execution_count": 158,
      "outputs": []
    },
    {
      "cell_type": "code",
      "metadata": {
        "id": "ji_EIBIOa7-D",
        "colab_type": "code",
        "colab": {}
      },
      "source": [
        ""
      ],
      "execution_count": null,
      "outputs": []
    }
  ]
}